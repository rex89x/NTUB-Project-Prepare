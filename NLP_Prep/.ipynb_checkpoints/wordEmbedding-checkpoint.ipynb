{
 "cells": [
  {
   "cell_type": "code",
   "execution_count": 27,
   "metadata": {
    "colab": {
     "base_uri": "https://localhost:8080/"
    },
    "executionInfo": {
     "elapsed": 4055,
     "status": "ok",
     "timestamp": 1619492768161,
     "user": {
      "displayName": "rex tsou",
      "photoUrl": "",
      "userId": "15448100786581130255"
     },
     "user_tz": -480
    },
    "id": "gk0v7azSNaYB",
    "outputId": "5bcba4fd-c171-4d2d-f25d-f662044f6eab"
   },
   "outputs": [
    {
     "name": "stdout",
     "output_type": "stream",
     "text": [
      "Requirement already satisfied: keras in /usr/local/lib/python3.7/dist-packages (2.4.3)\n",
      "Requirement already satisfied: pyyaml in /usr/local/lib/python3.7/dist-packages (from keras) (3.13)\n",
      "Requirement already satisfied: numpy>=1.9.1 in /usr/local/lib/python3.7/dist-packages (from keras) (1.19.5)\n",
      "Requirement already satisfied: h5py in /usr/local/lib/python3.7/dist-packages (from keras) (2.10.0)\n",
      "Requirement already satisfied: scipy>=0.14 in /usr/local/lib/python3.7/dist-packages (from keras) (1.4.1)\n",
      "Requirement already satisfied: six in /usr/local/lib/python3.7/dist-packages (from h5py->keras) (1.15.0)\n"
     ]
    }
   ],
   "source": [
    "#Word Embedding範例\n",
    "\n",
    "from numpy import array\n",
    "from keras.preprocessing.text import one_hot\n",
    "from keras.preprocessing.sequence import pad_sequences\n",
    "from keras.models import Sequential\n",
    "from keras.layers import Flatten, Dense\n",
    "!pip install keras\n",
    "from keras.layers.embeddings import Embedding"
   ]
  },
  {
   "cell_type": "code",
   "execution_count": 28,
   "metadata": {
    "colab": {
     "base_uri": "https://localhost:8080/"
    },
    "executionInfo": {
     "elapsed": 1917,
     "status": "ok",
     "timestamp": 1619492773142,
     "user": {
      "displayName": "rex tsou",
      "photoUrl": "",
      "userId": "15448100786581130255"
     },
     "user_tz": -480
    },
    "id": "eQ34c_hTNaYI",
    "outputId": "f3d5b49b-6488-4f36-8db9-8536aa896b1d"
   },
   "outputs": [
    {
     "name": "stdout",
     "output_type": "stream",
     "text": [
      "[0 0 0 5]\n"
     ]
    }
   ],
   "source": [
    "#自行定義文字陣列\n",
    "words = [\n",
    "    '好棒', 'hen開心', '雖敗猶榮', '太66666', '太神啦', '森七七', '過氣', '撿角', '崩潰', 'QQ'\n",
    "]\n",
    "\n",
    "#自行定義文反面情感定義label\n",
    "labels = array([\n",
    "    1,1,1,1,1,0,0,0,0,0\n",
    "])\n",
    "\n",
    "#vb_size字典長度\n",
    "vocab_size = 50\n",
    "\n",
    "#docs_dict -> 轉換成one-hot encoding\n",
    "docs_dict = [one_hot(d, vocab_size) for d in words]\n",
    "\n",
    "#padding documents to a max length of 4 words\n",
    "max_length = 4\n",
    "padded_docs = pad_sequences(docs_dict, maxlen = max_length)\n",
    "\n",
    "#maxlen -> 將資料整理成相同長度(padding or truncating)\n",
    "print(padded_docs[0])"
   ]
  },
  {
   "cell_type": "code",
   "execution_count": 29,
   "metadata": {
    "colab": {
     "base_uri": "https://localhost:8080/"
    },
    "executionInfo": {
     "elapsed": 9126,
     "status": "ok",
     "timestamp": 1619492785576,
     "user": {
      "displayName": "rex tsou",
      "photoUrl": "",
      "userId": "15448100786581130255"
     },
     "user_tz": -480
    },
    "id": "E5ansuDuNqiD",
    "outputId": "5d9c5676-c136-4321-803a-9002301896b4"
   },
   "outputs": [
    {
     "name": "stdout",
     "output_type": "stream",
     "text": [
      "Model: \"sequential_1\"\n",
      "_________________________________________________________________\n",
      "Layer (type)                 Output Shape              Param #   \n",
      "=================================================================\n",
      "embedding_1 (Embedding)      (None, 4, 8)              400       \n",
      "_________________________________________________________________\n",
      "flatten_1 (Flatten)          (None, 32)                0         \n",
      "_________________________________________________________________\n",
      "dense (Dense)                (None, 1)                 33        \n",
      "=================================================================\n",
      "Total params: 433\n",
      "Trainable params: 433\n",
      "Non-trainable params: 0\n",
      "_________________________________________________________________\n",
      "None\n",
      "Accuracy: 100.000000\n"
     ]
    }
   ],
   "source": [
    "#預備模型\n",
    "model = Sequential()\n",
    "\n",
    "model.add(Embedding(vb_size, 8, input_length = max_length))\n",
    "model.add(Flatten())\n",
    "\n",
    "#二元分類\n",
    "model.add(Dense(1, activation = 'sigmoid'))\n",
    "\n",
    "#compile the model\n",
    "model.compile(optimizer = 'adam', loss = 'binary_crossentropy',\n",
    "                metrics = ['acc'])\n",
    "\n",
    "#顯示模型準確度\n",
    "print(model.summary())\n",
    "\n",
    "#fit the model\n",
    "model.fit(padded_docs, labels, epochs = 50, verbose = 0)\n",
    "\n",
    "#evaluate the model\n",
    "loss, accuracy = model.evaluate(padded_docs, labels, verbose = 0)\n",
    "print('Accuracy: %f' % (accuracy * 100))"
   ]
  },
  {
   "cell_type": "code",
   "execution_count": null,
   "metadata": {
    "id": "s_p27LaASbOV"
   },
   "outputs": [],
   "source": []
  }
 ],
 "metadata": {
  "colab": {
   "name": "wordEmbedding.ipynb",
   "provenance": []
  },
  "kernelspec": {
   "display_name": "Python 3",
   "language": "python",
   "name": "python3"
  },
  "language_info": {
   "codemirror_mode": {
    "name": "ipython",
    "version": 3
   },
   "file_extension": ".py",
   "mimetype": "text/x-python",
   "name": "python",
   "nbconvert_exporter": "python",
   "pygments_lexer": "ipython3",
   "version": "3.8.5"
  }
 },
 "nbformat": 4,
 "nbformat_minor": 1
}
