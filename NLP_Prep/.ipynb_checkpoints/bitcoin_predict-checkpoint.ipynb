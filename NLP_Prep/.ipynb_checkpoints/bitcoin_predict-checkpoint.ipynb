{
 "cells": [
  {
   "cell_type": "code",
   "execution_count": 1,
   "metadata": {
    "colab": {
     "base_uri": "https://localhost:8080/"
    },
    "executionInfo": {
     "elapsed": 26303,
     "status": "ok",
     "timestamp": 1621921936643,
     "user": {
      "displayName": "rex tsou",
      "photoUrl": "",
      "userId": "15448100786581130255"
     },
     "user_tz": -480
    },
    "id": "_1WXviv243L2",
    "outputId": "87d4e49a-a6e6-479d-b529-115298699d73"
   },
   "outputs": [
    {
     "name": "stdout",
     "output_type": "stream",
     "text": [
      "Mounted at /content/drive\n"
     ]
    }
   ],
   "source": [
    "from google.colab import drive\n",
    "\n",
    "drive.mount('/content/drive')"
   ]
  },
  {
   "cell_type": "code",
   "execution_count": 2,
   "metadata": {
    "executionInfo": {
     "elapsed": 2118,
     "status": "ok",
     "timestamp": 1621921938752,
     "user": {
      "displayName": "rex tsou",
      "photoUrl": "",
      "userId": "15448100786581130255"
     },
     "user_tz": -480
    },
    "id": "A_0UWJlL5zF9"
   },
   "outputs": [],
   "source": [
    "import numpy as np\n",
    "import pandas as pd\n",
    "from sklearn.preprocessing import MinMaxScaler\n",
    "from tensorflow.keras.models import Sequential\n",
    "from tensorflow.keras.layers import Dense, Dropout, LSTM\n",
    "\n",
    "np.random.seed(10)  # 指定亂數種子"
   ]
  },
  {
   "cell_type": "code",
   "execution_count": 3,
   "metadata": {
    "executionInfo": {
     "elapsed": 21,
     "status": "ok",
     "timestamp": 1621921939605,
     "user": {
      "displayName": "rex tsou",
      "photoUrl": "",
      "userId": "15448100786581130255"
     },
     "user_tz": -480
    },
    "id": "0qH6sSCW1Bat"
   },
   "outputs": [],
   "source": [
    "# 載入Google股價的訓練資料集\n",
    "df_train = pd.read_csv('drive/MyDrive/二技資管一甲/下學期/news_dataset/BTC-USD.csv', index_col = \"Date\", parse_dates = True)\n",
    "\n",
    "X_train_set = df_train.iloc[:,4:5].values  # Adj Close欄位"
   ]
  },
  {
   "cell_type": "code",
   "execution_count": 4,
   "metadata": {
    "executionInfo": {
     "elapsed": 20,
     "status": "ok",
     "timestamp": 1621921939606,
     "user": {
      "displayName": "rex tsou",
      "photoUrl": "",
      "userId": "15448100786581130255"
     },
     "user_tz": -480
    },
    "id": "SEJJNNAn1re7"
   },
   "outputs": [],
   "source": [
    "# 特徵標準化 - 正規化\n",
    "sc = MinMaxScaler() \n",
    "X_train_set = sc.fit_transform(X_train_set)"
   ]
  },
  {
   "cell_type": "code",
   "execution_count": 5,
   "metadata": {
    "executionInfo": {
     "elapsed": 20,
     "status": "ok",
     "timestamp": 1621921939608,
     "user": {
      "displayName": "rex tsou",
      "photoUrl": "",
      "userId": "15448100786581130255"
     },
     "user_tz": -480
    },
    "id": "0Mal2aMA19Rh"
   },
   "outputs": [],
   "source": [
    "# 取出幾天前股價來建立成特徵和標籤資料集\n",
    "def create_dataset(ds, look_back=1):\n",
    "  X_data, Y_data = [],[]\n",
    "  for i in range(len(ds)-look_back):\n",
    "    X_data.append(ds[i:(i+look_back), 0])\n",
    "    Y_data.append(ds[i+look_back, 0])\n",
    "    \n",
    "  return np.array(X_data), np.array(Y_data)"
   ]
  },
  {
   "cell_type": "code",
   "execution_count": 6,
   "metadata": {
    "colab": {
     "base_uri": "https://localhost:8080/"
    },
    "executionInfo": {
     "elapsed": 19,
     "status": "ok",
     "timestamp": 1621921939609,
     "user": {
      "displayName": "rex tsou",
      "photoUrl": "",
      "userId": "15448100786581130255"
     },
     "user_tz": -480
    },
    "id": "WeGyCX7O1_zY",
    "outputId": "e85ef437-28bb-4e39-ef6a-a452f95099d6"
   },
   "outputs": [
    {
     "name": "stdout",
     "output_type": "stream",
     "text": [
      "回看天數: 120\n",
      "X_train.shape:  (1342, 120, 1)\n",
      "Y_train.shape:  (1342,)\n"
     ]
    }
   ],
   "source": [
    "look_back = 120\n",
    "print(\"回看天數:\", look_back)\n",
    "# 分割成特徵資料和標籤資料\n",
    "X_train, Y_train = create_dataset(X_train_set, look_back)\n",
    "# 轉換成(樣本數, 時步, 特徵)張量\n",
    "X_train = np.reshape(X_train, (X_train.shape[0], X_train.shape[1], 1))\n",
    "print(\"X_train.shape: \", X_train.shape)\n",
    "print(\"Y_train.shape: \", Y_train.shape)"
   ]
  },
  {
   "cell_type": "code",
   "execution_count": 7,
   "metadata": {
    "colab": {
     "base_uri": "https://localhost:8080/"
    },
    "executionInfo": {
     "elapsed": 6138,
     "status": "ok",
     "timestamp": 1621921945731,
     "user": {
      "displayName": "rex tsou",
      "photoUrl": "",
      "userId": "15448100786581130255"
     },
     "user_tz": -480
    },
    "id": "n_8dy1RV2tWc",
    "outputId": "d784c4a3-470c-4e6b-bd55-95b8ac4f677e"
   },
   "outputs": [
    {
     "name": "stdout",
     "output_type": "stream",
     "text": [
      "Model: \"sequential\"\n",
      "_________________________________________________________________\n",
      "Layer (type)                 Output Shape              Param #   \n",
      "=================================================================\n",
      "lstm (LSTM)                  (None, 120, 50)           10400     \n",
      "_________________________________________________________________\n",
      "dropout (Dropout)            (None, 120, 50)           0         \n",
      "_________________________________________________________________\n",
      "lstm_1 (LSTM)                (None, 120, 50)           20200     \n",
      "_________________________________________________________________\n",
      "dropout_1 (Dropout)          (None, 120, 50)           0         \n",
      "_________________________________________________________________\n",
      "lstm_2 (LSTM)                (None, 50)                20200     \n",
      "_________________________________________________________________\n",
      "dropout_2 (Dropout)          (None, 50)                0         \n",
      "_________________________________________________________________\n",
      "dense (Dense)                (None, 1)                 51        \n",
      "=================================================================\n",
      "Total params: 50,851\n",
      "Trainable params: 50,851\n",
      "Non-trainable params: 0\n",
      "_________________________________________________________________\n"
     ]
    }
   ],
   "source": [
    "# 定義模型\n",
    "model = Sequential()\n",
    "model.add(LSTM(50, return_sequences = True, input_shape = (X_train.shape[1], 1)))\n",
    "model.add(Dropout(0.2))\n",
    "model.add(LSTM(50, return_sequences = True))\n",
    "model.add(Dropout(0.2))\n",
    "model.add(LSTM(50))\n",
    "model.add(Dropout(0.2))\n",
    "model.add(Dense(1))\n",
    "model.summary()   # 顯示模型摘要資訊"
   ]
  },
  {
   "cell_type": "code",
   "execution_count": 8,
   "metadata": {
    "executionInfo": {
     "elapsed": 17,
     "status": "ok",
     "timestamp": 1621921945732,
     "user": {
      "displayName": "rex tsou",
      "photoUrl": "",
      "userId": "15448100786581130255"
     },
     "user_tz": -480
    },
    "id": "_2fOTEIK26Mz"
   },
   "outputs": [],
   "source": [
    "# 編譯模型\n",
    "model.compile(loss = \"mse\", optimizer = \"adam\")"
   ]
  },
  {
   "cell_type": "code",
   "execution_count": 9,
   "metadata": {
    "colab": {
     "base_uri": "https://localhost:8080/"
    },
    "executionInfo": {
     "elapsed": 156577,
     "status": "ok",
     "timestamp": 1621922102294,
     "user": {
      "displayName": "rex tsou",
      "photoUrl": "",
      "userId": "15448100786581130255"
     },
     "user_tz": -480
    },
    "id": "Xgyd9XZ83GN1",
    "outputId": "8438587d-66e7-43a6-e5fa-196532dcdab4"
   },
   "outputs": [
    {
     "name": "stdout",
     "output_type": "stream",
     "text": [
      "Epoch 1/100\n",
      "84/84 [==============================] - 34s 15ms/step - loss: nan\n",
      "Epoch 2/100\n",
      "84/84 [==============================] - 1s 15ms/step - loss: nan\n",
      "Epoch 3/100\n",
      "84/84 [==============================] - 1s 15ms/step - loss: nan\n",
      "Epoch 4/100\n",
      "84/84 [==============================] - 1s 15ms/step - loss: nan\n",
      "Epoch 5/100\n",
      "84/84 [==============================] - 1s 15ms/step - loss: nan\n",
      "Epoch 6/100\n",
      "84/84 [==============================] - 1s 15ms/step - loss: nan\n",
      "Epoch 7/100\n",
      "84/84 [==============================] - 1s 15ms/step - loss: nan\n",
      "Epoch 8/100\n",
      "84/84 [==============================] - 1s 15ms/step - loss: nan\n",
      "Epoch 9/100\n",
      "84/84 [==============================] - 1s 15ms/step - loss: nan\n",
      "Epoch 10/100\n",
      "84/84 [==============================] - 1s 15ms/step - loss: nan\n",
      "Epoch 11/100\n",
      "84/84 [==============================] - 1s 15ms/step - loss: nan\n",
      "Epoch 12/100\n",
      "84/84 [==============================] - 1s 15ms/step - loss: nan\n",
      "Epoch 13/100\n",
      "84/84 [==============================] - 1s 15ms/step - loss: nan\n",
      "Epoch 14/100\n",
      "84/84 [==============================] - 1s 15ms/step - loss: nan\n",
      "Epoch 15/100\n",
      "84/84 [==============================] - 1s 15ms/step - loss: nan\n",
      "Epoch 16/100\n",
      "84/84 [==============================] - 1s 15ms/step - loss: nan\n",
      "Epoch 17/100\n",
      "84/84 [==============================] - 1s 15ms/step - loss: nan\n",
      "Epoch 18/100\n",
      "84/84 [==============================] - 1s 15ms/step - loss: nan\n",
      "Epoch 19/100\n",
      "84/84 [==============================] - 1s 15ms/step - loss: nan\n",
      "Epoch 20/100\n",
      "84/84 [==============================] - 1s 15ms/step - loss: nan\n",
      "Epoch 21/100\n",
      "84/84 [==============================] - 1s 15ms/step - loss: nan\n",
      "Epoch 22/100\n",
      "84/84 [==============================] - 1s 15ms/step - loss: nan\n",
      "Epoch 23/100\n",
      "84/84 [==============================] - 1s 15ms/step - loss: nan\n",
      "Epoch 24/100\n",
      "84/84 [==============================] - 1s 15ms/step - loss: nan\n",
      "Epoch 25/100\n",
      "84/84 [==============================] - 1s 15ms/step - loss: nan\n",
      "Epoch 26/100\n",
      "84/84 [==============================] - 1s 15ms/step - loss: nan\n",
      "Epoch 27/100\n",
      "84/84 [==============================] - 1s 15ms/step - loss: nan\n",
      "Epoch 28/100\n",
      "84/84 [==============================] - 1s 15ms/step - loss: nan\n",
      "Epoch 29/100\n",
      "84/84 [==============================] - 1s 15ms/step - loss: nan\n",
      "Epoch 30/100\n",
      "84/84 [==============================] - 1s 15ms/step - loss: nan\n",
      "Epoch 31/100\n",
      "84/84 [==============================] - 1s 15ms/step - loss: nan\n",
      "Epoch 32/100\n",
      "84/84 [==============================] - 1s 15ms/step - loss: nan\n",
      "Epoch 33/100\n",
      "84/84 [==============================] - 1s 15ms/step - loss: nan\n",
      "Epoch 34/100\n",
      "84/84 [==============================] - 1s 15ms/step - loss: nan\n",
      "Epoch 35/100\n",
      "84/84 [==============================] - 1s 15ms/step - loss: nan\n",
      "Epoch 36/100\n",
      "84/84 [==============================] - 1s 15ms/step - loss: nan\n",
      "Epoch 37/100\n",
      "84/84 [==============================] - 1s 15ms/step - loss: nan\n",
      "Epoch 38/100\n",
      "84/84 [==============================] - 1s 15ms/step - loss: nan\n",
      "Epoch 39/100\n",
      "84/84 [==============================] - 1s 15ms/step - loss: nan\n",
      "Epoch 40/100\n",
      "84/84 [==============================] - 1s 15ms/step - loss: nan\n",
      "Epoch 41/100\n",
      "84/84 [==============================] - 1s 15ms/step - loss: nan\n",
      "Epoch 42/100\n",
      "84/84 [==============================] - 1s 15ms/step - loss: nan\n",
      "Epoch 43/100\n",
      "84/84 [==============================] - 1s 15ms/step - loss: nan\n",
      "Epoch 44/100\n",
      "84/84 [==============================] - 1s 15ms/step - loss: nan\n",
      "Epoch 45/100\n",
      "84/84 [==============================] - 1s 15ms/step - loss: nan\n",
      "Epoch 46/100\n",
      "84/84 [==============================] - 1s 15ms/step - loss: nan\n",
      "Epoch 47/100\n",
      "84/84 [==============================] - 1s 15ms/step - loss: nan\n",
      "Epoch 48/100\n",
      "84/84 [==============================] - 1s 15ms/step - loss: nan\n",
      "Epoch 49/100\n",
      "84/84 [==============================] - 1s 15ms/step - loss: nan\n",
      "Epoch 50/100\n",
      "84/84 [==============================] - 1s 15ms/step - loss: nan\n",
      "Epoch 51/100\n",
      "84/84 [==============================] - 1s 15ms/step - loss: nan\n",
      "Epoch 52/100\n",
      "84/84 [==============================] - 1s 15ms/step - loss: nan\n",
      "Epoch 53/100\n",
      "84/84 [==============================] - 1s 15ms/step - loss: nan\n",
      "Epoch 54/100\n",
      "84/84 [==============================] - 1s 15ms/step - loss: nan\n",
      "Epoch 55/100\n",
      "84/84 [==============================] - 1s 15ms/step - loss: nan\n",
      "Epoch 56/100\n",
      "84/84 [==============================] - 1s 15ms/step - loss: nan\n",
      "Epoch 57/100\n",
      "84/84 [==============================] - 1s 15ms/step - loss: nan\n",
      "Epoch 58/100\n",
      "84/84 [==============================] - 1s 15ms/step - loss: nan\n",
      "Epoch 59/100\n",
      "84/84 [==============================] - 1s 15ms/step - loss: nan\n",
      "Epoch 60/100\n",
      "84/84 [==============================] - 1s 15ms/step - loss: nan\n",
      "Epoch 61/100\n",
      "84/84 [==============================] - 1s 15ms/step - loss: nan\n",
      "Epoch 62/100\n",
      "84/84 [==============================] - 1s 15ms/step - loss: nan\n",
      "Epoch 63/100\n",
      "84/84 [==============================] - 1s 15ms/step - loss: nan\n",
      "Epoch 64/100\n",
      "84/84 [==============================] - 1s 15ms/step - loss: nan\n",
      "Epoch 65/100\n",
      "84/84 [==============================] - 1s 15ms/step - loss: nan\n",
      "Epoch 66/100\n",
      "84/84 [==============================] - 1s 15ms/step - loss: nan\n",
      "Epoch 67/100\n",
      "84/84 [==============================] - 1s 15ms/step - loss: nan\n",
      "Epoch 68/100\n",
      "84/84 [==============================] - 1s 15ms/step - loss: nan\n",
      "Epoch 69/100\n",
      "84/84 [==============================] - 1s 15ms/step - loss: nan\n",
      "Epoch 70/100\n",
      "84/84 [==============================] - 1s 15ms/step - loss: nan\n",
      "Epoch 71/100\n",
      "84/84 [==============================] - 1s 15ms/step - loss: nan\n",
      "Epoch 72/100\n",
      "84/84 [==============================] - 1s 15ms/step - loss: nan\n",
      "Epoch 73/100\n",
      "84/84 [==============================] - 1s 15ms/step - loss: nan\n",
      "Epoch 74/100\n",
      "84/84 [==============================] - 1s 15ms/step - loss: nan\n",
      "Epoch 75/100\n",
      "84/84 [==============================] - 1s 15ms/step - loss: nan\n",
      "Epoch 76/100\n",
      "84/84 [==============================] - 1s 15ms/step - loss: nan\n",
      "Epoch 77/100\n",
      "84/84 [==============================] - 1s 15ms/step - loss: nan\n",
      "Epoch 78/100\n",
      "84/84 [==============================] - 1s 15ms/step - loss: nan\n",
      "Epoch 79/100\n",
      "84/84 [==============================] - 1s 15ms/step - loss: nan\n",
      "Epoch 80/100\n",
      "84/84 [==============================] - 1s 15ms/step - loss: nan\n",
      "Epoch 81/100\n",
      "84/84 [==============================] - 1s 15ms/step - loss: nan\n",
      "Epoch 82/100\n",
      "84/84 [==============================] - 1s 15ms/step - loss: nan\n",
      "Epoch 83/100\n",
      "84/84 [==============================] - 1s 15ms/step - loss: nan\n",
      "Epoch 84/100\n",
      "84/84 [==============================] - 1s 15ms/step - loss: nan\n",
      "Epoch 85/100\n",
      "84/84 [==============================] - 1s 15ms/step - loss: nan\n",
      "Epoch 86/100\n",
      "84/84 [==============================] - 1s 15ms/step - loss: nan\n",
      "Epoch 87/100\n",
      "84/84 [==============================] - 1s 15ms/step - loss: nan\n",
      "Epoch 88/100\n",
      "84/84 [==============================] - 1s 15ms/step - loss: nan\n",
      "Epoch 89/100\n",
      "84/84 [==============================] - 1s 15ms/step - loss: nan\n",
      "Epoch 90/100\n",
      "84/84 [==============================] - 1s 15ms/step - loss: nan\n",
      "Epoch 91/100\n",
      "84/84 [==============================] - 1s 15ms/step - loss: nan\n",
      "Epoch 92/100\n",
      "84/84 [==============================] - 1s 15ms/step - loss: nan\n",
      "Epoch 93/100\n",
      "84/84 [==============================] - 1s 15ms/step - loss: nan\n",
      "Epoch 94/100\n",
      "84/84 [==============================] - 1s 15ms/step - loss: nan\n",
      "Epoch 95/100\n",
      "84/84 [==============================] - 1s 15ms/step - loss: nan\n",
      "Epoch 96/100\n",
      "84/84 [==============================] - 1s 15ms/step - loss: nan\n",
      "Epoch 97/100\n",
      "84/84 [==============================] - 1s 15ms/step - loss: nan\n",
      "Epoch 98/100\n",
      "84/84 [==============================] - 1s 15ms/step - loss: nan\n",
      "Epoch 99/100\n",
      "84/84 [==============================] - 1s 15ms/step - loss: nan\n",
      "Epoch 100/100\n",
      "84/84 [==============================] - 1s 15ms/step - loss: nan\n"
     ]
    },
    {
     "data": {
      "text/plain": [
       "<tensorflow.python.keras.callbacks.History at 0x7f667014fa90>"
      ]
     },
     "execution_count": 9,
     "metadata": {
      "tags": []
     },
     "output_type": "execute_result"
    }
   ],
   "source": [
    "# 訓練模型\n",
    "model.fit(X_train, Y_train, epochs = 100, batch_size = 16)"
   ]
  },
  {
   "cell_type": "code",
   "execution_count": 10,
   "metadata": {
    "executionInfo": {
     "elapsed": 1559,
     "status": "ok",
     "timestamp": 1621922113738,
     "user": {
      "displayName": "rex tsou",
      "photoUrl": "",
      "userId": "15448100786581130255"
     },
     "user_tz": -480
    },
    "id": "mVKvpiNU3cQb"
   },
   "outputs": [],
   "source": [
    "# 使用模型預測股價 - 2017年1~3月預測 4 月份股價\n",
    "df_test = pd.read_csv(\"drive/MyDrive/二技資管一甲/下學期/news_dataset/BTC-USD-TEST.csv\")\n",
    "X_test_set = df_test.iloc[:, 4:5].values\n",
    "# 產生特徵資料和標籤資料\n",
    "X_test, Y_test = create_dataset(X_test_set, look_back)\n",
    "X_test = sc.transform(X_test)\n",
    "# 轉換成(樣本數, 時步, 特徵)張量\n",
    "X_test = np.reshape(X_test, (X_test.shape[0], X_test.shape[1], 1))\n",
    "X_test_pred = model.predict(X_test)\n",
    "# 將預測值轉換回股價\n",
    "X_test_pred_price = sc.inverse_transform(X_test_pred)"
   ]
  },
  {
   "cell_type": "code",
   "execution_count": 11,
   "metadata": {
    "colab": {
     "base_uri": "https://localhost:8080/",
     "height": 295
    },
    "executionInfo": {
     "elapsed": 300,
     "status": "ok",
     "timestamp": 1621922116530,
     "user": {
      "displayName": "rex tsou",
      "photoUrl": "",
      "userId": "15448100786581130255"
     },
     "user_tz": -480
    },
    "id": "YHbC-uRb3fYM",
    "outputId": "274d84ca-b434-4985-cde4-793f93e38447"
   },
   "outputs": [
    {
     "data": {
      "image/png": "[encoded data removed]",
      "text/plain": [
       "<Figure size 432x288 with 1 Axes>"
      ]
     },
     "metadata": {
      "needs_background": "light",
      "tags": []
     },
     "output_type": "display_data"
    }
   ],
   "source": [
    "# 繪出股價圖表\n",
    "import matplotlib.pyplot as plt\n",
    "\n",
    "plt.plot(Y_test, color = \"red\", label = \"Real BitCoin Price\")\n",
    "plt.plot(X_test_pred_price, color = \"blue\", label=\"Predicted BitCoin Price\")\n",
    "plt.title(\"BitCoin Price Prediction\")\n",
    "plt.xlabel(\"Time\")\n",
    "plt.ylabel(\"Google Time Price\")\n",
    "plt.legend()\n",
    "plt.show()"
   ]
  }
 ],
 "metadata": {
  "accelerator": "GPU",
  "colab": {
   "authorship_tag": "ABX9TyM5JL0ZreUtuMztzQa7z1ar",
   "name": "bitcoin_predict.ipynb",
   "provenance": []
  },
  "kernelspec": {
   "display_name": "Python 3",
   "language": "python",
   "name": "python3"
  },
  "language_info": {
   "codemirror_mode": {
    "name": "ipython",
    "version": 3
   },
   "file_extension": ".py",
   "mimetype": "text/x-python",
   "name": "python",
   "nbconvert_exporter": "python",
   "pygments_lexer": "ipython3",
   "version": "3.8.5"
  }
 },
 "nbformat": 4,
 "nbformat_minor": 1
}
