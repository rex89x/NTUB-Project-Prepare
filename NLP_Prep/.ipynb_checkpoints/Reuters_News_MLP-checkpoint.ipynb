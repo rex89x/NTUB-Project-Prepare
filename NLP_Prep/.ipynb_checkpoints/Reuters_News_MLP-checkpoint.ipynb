{
 "cells": [
  {
   "cell_type": "code",
   "execution_count": 1,
   "metadata": {
    "executionInfo": {
     "elapsed": 1549,
     "status": "ok",
     "timestamp": 1622128197911,
     "user": {
      "displayName": "rex tsou",
      "photoUrl": "",
      "userId": "15448100786581130255"
     },
     "user_tz": -480
    },
    "id": "_1WXviv243L2"
   },
   "outputs": [],
   "source": [
    "import numpy as np\n",
    "from tensorflow.keras.datasets import reuters\n",
    "from tensorflow.keras.preprocessing import sequence\n",
    "from tensorflow.keras.models import Sequential\n",
    "from tensorflow.keras.layers import Dense, Embedding, Dropout, Flatten\n",
    "from tensorflow.keras.utils import to_categorical\n",
    "\n",
    "#指定亂樹種子\n",
    "seed = 10\n",
    "np.random.seed(seed)"
   ]
  },
  {
   "cell_type": "code",
   "execution_count": 2,
   "metadata": {
    "colab": {
     "base_uri": "https://localhost:8080/"
    },
    "executionInfo": {
     "elapsed": 1336,
     "status": "ok",
     "timestamp": 1622128202243,
     "user": {
      "displayName": "rex tsou",
      "photoUrl": "",
      "userId": "15448100786581130255"
     },
     "user_tz": -480
    },
    "id": "kHFZgUkyXHCn",
    "outputId": "859fccf0-ba4b-4ce2-dcdf-29ce1c53ba62"
   },
   "outputs": [
    {
     "name": "stdout",
     "output_type": "stream",
     "text": [
      "Downloading data from https://storage.googleapis.com/tensorflow/tf-keras-datasets/reuters.npz\n",
      "2113536/2110848 [==============================] - 0s 0us/step\n"
     ]
    },
    {
     "name": "stderr",
     "output_type": "stream",
     "text": [
      "/usr/local/lib/python3.7/dist-packages/tensorflow/python/keras/datasets/reuters.py:143: VisibleDeprecationWarning: Creating an ndarray from ragged nested sequences (which is a list-or-tuple of lists-or-tuples-or ndarrays with different lengths or shapes) is deprecated. If you meant to do this, you must specify 'dtype=object' when creating the ndarray\n",
      "  x_train, y_train = np.array(xs[:idx]), np.array(labels[:idx])\n",
      "/usr/local/lib/python3.7/dist-packages/tensorflow/python/keras/datasets/reuters.py:144: VisibleDeprecationWarning: Creating an ndarray from ragged nested sequences (which is a list-or-tuple of lists-or-tuples-or ndarrays with different lengths or shapes) is deprecated. If you meant to do this, you must specify 'dtype=object' when creating the ndarray\n",
      "  x_test, y_test = np.array(xs[idx:]), np.array(labels[idx:])\n"
     ]
    }
   ],
   "source": [
    "#載入Reuters Dataset\n",
    "top_words = 10000\n",
    "(X_train, Y_train), (X_test, Y_test) = reuters.load_data(num_words = top_words)"
   ]
  },
  {
   "cell_type": "code",
   "execution_count": 3,
   "metadata": {
    "executionInfo": {
     "elapsed": 234,
     "status": "ok",
     "timestamp": 1622128206361,
     "user": {
      "displayName": "rex tsou",
      "photoUrl": "",
      "userId": "15448100786581130255"
     },
     "user_tz": -480
    },
    "id": "uAod0vz1XmGf"
   },
   "outputs": [],
   "source": [
    "#資料預處理\n",
    "max_words = 200\n",
    "X_train = sequence.pad_sequences(X_train, maxlen = max_words)\n",
    "X_test = sequence.pad_sequences(X_test, maxlen = max_words)"
   ]
  },
  {
   "cell_type": "code",
   "execution_count": 4,
   "metadata": {
    "executionInfo": {
     "elapsed": 239,
     "status": "ok",
     "timestamp": 1622128225477,
     "user": {
      "displayName": "rex tsou",
      "photoUrl": "",
      "userId": "15448100786581130255"
     },
     "user_tz": -480
    },
    "id": "kIqjIHnMX3M_"
   },
   "outputs": [],
   "source": [
    "#One-hot Encoding\n",
    "Y_train = to_categorical(Y_train, 46)\n",
    "Y_test = to_categorical(Y_test, 46)"
   ]
  },
  {
   "cell_type": "code",
   "execution_count": 5,
   "metadata": {
    "colab": {
     "base_uri": "https://localhost:8080/"
    },
    "executionInfo": {
     "elapsed": 6006,
     "status": "ok",
     "timestamp": 1622128384524,
     "user": {
      "displayName": "rex tsou",
      "photoUrl": "",
      "userId": "15448100786581130255"
     },
     "user_tz": -480
    },
    "id": "A_0UWJlL5zF9",
    "outputId": "cb5cac90-e037-43a4-80b0-2a79aa138b0c"
   },
   "outputs": [
    {
     "name": "stdout",
     "output_type": "stream",
     "text": [
      "Model: \"sequential\"\n",
      "_________________________________________________________________\n",
      "Layer (type)                 Output Shape              Param #   \n",
      "=================================================================\n",
      "embedding (Embedding)        (None, 200, 32)           320000    \n",
      "_________________________________________________________________\n",
      "dropout (Dropout)            (None, 200, 32)           0         \n",
      "_________________________________________________________________\n",
      "flatten (Flatten)            (None, 6400)              0         \n",
      "_________________________________________________________________\n",
      "dense (Dense)                (None, 64)                409664    \n",
      "_________________________________________________________________\n",
      "dropout_1 (Dropout)          (None, 64)                0         \n",
      "_________________________________________________________________\n",
      "dense_1 (Dense)              (None, 64)                4160      \n",
      "_________________________________________________________________\n",
      "dropout_2 (Dropout)          (None, 64)                0         \n",
      "_________________________________________________________________\n",
      "dense_2 (Dense)              (None, 46)                2990      \n",
      "=================================================================\n",
      "Total params: 736,814\n",
      "Trainable params: 736,814\n",
      "Non-trainable params: 0\n",
      "_________________________________________________________________\n"
     ]
    }
   ],
   "source": [
    "#定義模型\n",
    "model = Sequential()\n",
    "model.add(Embedding(top_words, 32, input_length = max_words))\n",
    "model.add(Dropout(0.75))\n",
    "model.add(Flatten())\n",
    "model.add(Dense(64, activation = 'relu'))\n",
    "model.add(Dropout(0.25))\n",
    "model.add(Dense(64, activation = 'relu'))\n",
    "model.add(Dropout(0.02))\n",
    "model.add(Dense(46, activation = 'softmax'))\n",
    "model.summary() #顯示模型摘要資訊"
   ]
  },
  {
   "cell_type": "code",
   "execution_count": 6,
   "metadata": {
    "executionInfo": {
     "elapsed": 425,
     "status": "ok",
     "timestamp": 1622128429165,
     "user": {
      "displayName": "rex tsou",
      "photoUrl": "",
      "userId": "15448100786581130255"
     },
     "user_tz": -480
    },
    "id": "1Yg8ke7NYsEU"
   },
   "outputs": [],
   "source": [
    "#編譯模型\n",
    "model.compile(loss = 'categorical_crossentropy', optimizer = 'adam', metrics = ['accuracy'])"
   ]
  },
  {
   "cell_type": "code",
   "execution_count": 7,
   "metadata": {
    "colab": {
     "base_uri": "https://localhost:8080/"
    },
    "executionInfo": {
     "elapsed": 21922,
     "status": "ok",
     "timestamp": 1622128536444,
     "user": {
      "displayName": "rex tsou",
      "photoUrl": "",
      "userId": "15448100786581130255"
     },
     "user_tz": -480
    },
    "id": "W38ewb8ZY4VI",
    "outputId": "443441a0-7075-4fa5-f928-6762d2cbd2d2"
   },
   "outputs": [
    {
     "name": "stdout",
     "output_type": "stream",
     "text": [
      "Epoch 1/12\n",
      "225/225 - 5s - loss: 2.2198 - accuracy: 0.4299 - val_loss: 1.7757 - val_accuracy: 0.5075\n",
      "Epoch 2/12\n",
      "225/225 - 1s - loss: 1.6529 - accuracy: 0.5730 - val_loss: 1.5347 - val_accuracy: 0.6110\n",
      "Epoch 3/12\n",
      "225/225 - 1s - loss: 1.3870 - accuracy: 0.6394 - val_loss: 1.4158 - val_accuracy: 0.6450\n",
      "Epoch 4/12\n",
      "225/225 - 1s - loss: 1.1864 - accuracy: 0.6931 - val_loss: 1.3394 - val_accuracy: 0.6778\n",
      "Epoch 5/12\n",
      "225/225 - 1s - loss: 1.0228 - accuracy: 0.7358 - val_loss: 1.2771 - val_accuracy: 0.7001\n",
      "Epoch 6/12\n",
      "225/225 - 1s - loss: 0.8823 - accuracy: 0.7711 - val_loss: 1.2791 - val_accuracy: 0.7156\n",
      "Epoch 7/12\n",
      "225/225 - 1s - loss: 0.7830 - accuracy: 0.7928 - val_loss: 1.2818 - val_accuracy: 0.7162\n",
      "Epoch 8/12\n",
      "225/225 - 1s - loss: 0.6940 - accuracy: 0.8127 - val_loss: 1.2643 - val_accuracy: 0.7140\n",
      "Epoch 9/12\n",
      "225/225 - 1s - loss: 0.6269 - accuracy: 0.8281 - val_loss: 1.2807 - val_accuracy: 0.7206\n",
      "Epoch 10/12\n",
      "225/225 - 1s - loss: 0.5745 - accuracy: 0.8437 - val_loss: 1.2847 - val_accuracy: 0.7323\n",
      "Epoch 11/12\n",
      "225/225 - 1s - loss: 0.5174 - accuracy: 0.8504 - val_loss: 1.3403 - val_accuracy: 0.7290\n",
      "Epoch 12/12\n",
      "225/225 - 1s - loss: 0.4780 - accuracy: 0.8605 - val_loss: 1.3409 - val_accuracy: 0.7290\n"
     ]
    }
   ],
   "source": [
    "#訓練模型\n",
    "history = model.fit(X_train, Y_train, validation_split = 0.2, epochs = 12, batch_size = 32, verbose = 2)"
   ]
  },
  {
   "cell_type": "code",
   "execution_count": 8,
   "metadata": {
    "colab": {
     "base_uri": "https://localhost:8080/"
    },
    "executionInfo": {
     "elapsed": 226,
     "status": "ok",
     "timestamp": 1622128649881,
     "user": {
      "displayName": "rex tsou",
      "photoUrl": "",
      "userId": "15448100786581130255"
     },
     "user_tz": -480
    },
    "id": "mWU2z5tfZNRj",
    "outputId": "84df70ba-16b9-40f1-d496-f2b85eb4d903"
   },
   "outputs": [
    {
     "name": "stdout",
     "output_type": "stream",
     "text": [
      "測試準確度 = 0.72\n"
     ]
    }
   ],
   "source": [
    "#評估模型\n",
    "loss, accuracy = model.evaluate(X_test, Y_test, verbose = 0)\n",
    "print(\"測試準確度 = {:.2f}\".format(accuracy))"
   ]
  },
  {
   "cell_type": "code",
   "execution_count": 9,
   "metadata": {
    "executionInfo": {
     "elapsed": 229,
     "status": "ok",
     "timestamp": 1622128670221,
     "user": {
      "displayName": "rex tsou",
      "photoUrl": "",
      "userId": "15448100786581130255"
     },
     "user_tz": -480
    },
    "id": "b9--EqRHZuRC"
   },
   "outputs": [],
   "source": [
    "#Train and Validation Diagram\n",
    "import matplotlib.pyplot as plt"
   ]
  },
  {
   "cell_type": "code",
   "execution_count": 12,
   "metadata": {
    "colab": {
     "base_uri": "https://localhost:8080/",
     "height": 295
    },
    "executionInfo": {
     "elapsed": 268,
     "status": "ok",
     "timestamp": 1622128951533,
     "user": {
      "displayName": "rex tsou",
      "photoUrl": "",
      "userId": "15448100786581130255"
     },
     "user_tz": -480
    },
    "id": "HZOtbFGCZzMb",
    "outputId": "e5208461-24f7-4b8f-8890-87990eb88c6d"
   },
   "outputs": [
    {
     "data": {
      "image/png": "[encoded data removed]",
      "text/plain": [
       "<Figure size 432x288 with 1 Axes>"
      ]
     },
     "metadata": {
      "needs_background": "light",
      "tags": []
     },
     "output_type": "display_data"
    }
   ],
   "source": [
    "loss = history.history['loss']\n",
    "epochs = range(1, len(loss) + 1)\n",
    "val_loss = history.history['val_loss']\n",
    "plt.plot(epochs, loss, \"bo\", label = \"Training Loss\")\n",
    "plt.plot(epochs, val_loss, \"r\", label = \"Validation Loss\")\n",
    "plt.title(\"Training and Validation Loss\")\n",
    "plt.xlabel(\"Epochs\")\n",
    "plt.ylabel(\"Loss\")\n",
    "plt.legend()\n",
    "plt.show()"
   ]
  },
  {
   "cell_type": "code",
   "execution_count": 13,
   "metadata": {
    "colab": {
     "base_uri": "https://localhost:8080/",
     "height": 295
    },
    "executionInfo": {
     "elapsed": 424,
     "status": "ok",
     "timestamp": 1622129037755,
     "user": {
      "displayName": "rex tsou",
      "photoUrl": "",
      "userId": "15448100786581130255"
     },
     "user_tz": -480
    },
    "id": "0B8iNXgcaPHc",
    "outputId": "51bc1ca7-a544-4e58-ac75-0db009e6bedb"
   },
   "outputs": [
    {
     "data": {
      "image/png": "[encoded data removed]",
      "text/plain": [
       "<Figure size 432x288 with 1 Axes>"
      ]
     },
     "metadata": {
      "needs_background": "light",
      "tags": []
     },
     "output_type": "display_data"
    }
   ],
   "source": [
    "acc = history.history['accuracy']\n",
    "epochs = range(1, len(acc) + 1)\n",
    "val_acc = history.history['val_accuracy']\n",
    "plt.plot(epochs, acc, \"b-\", label = \"Training Acc\")\n",
    "plt.plot(epochs, val_acc, \"r--\", label = \"Validation Acc\")\n",
    "plt.title(\"Training and Validation Accuracy\")\n",
    "plt.xlabel(\"Epochs\")\n",
    "plt.ylabel(\"Accuracy\")\n",
    "plt.legend()\n",
    "plt.show()"
   ]
  },
  {
   "cell_type": "code",
   "execution_count": null,
   "metadata": {
    "id": "A9xypPoObM6J"
   },
   "outputs": [],
   "source": []
  }
 ],
 "metadata": {
  "accelerator": "GPU",
  "colab": {
   "authorship_tag": "ABX9TyPoWu+Ex6RZuju/eljK5L6J",
   "collapsed_sections": [],
   "name": "Reuters_News_MLP.ipynb",
   "provenance": []
  },
  "kernelspec": {
   "display_name": "Python 3",
   "language": "python",
   "name": "python3"
  },
  "language_info": {
   "codemirror_mode": {
    "name": "ipython",
    "version": 3
   },
   "file_extension": ".py",
   "mimetype": "text/x-python",
   "name": "python",
   "nbconvert_exporter": "python",
   "pygments_lexer": "ipython3",
   "version": "3.8.5"
  }
 },
 "nbformat": 4,
 "nbformat_minor": 1
}
