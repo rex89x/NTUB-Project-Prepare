{
 "cells": [
  {
   "cell_type": "code",
   "execution_count": 3,
   "metadata": {
    "colab": {
     "base_uri": "https://localhost:8080/"
    },
    "executionInfo": {
     "elapsed": 6791,
     "status": "ok",
     "timestamp": 1620744237179,
     "user": {
      "displayName": "rex tsou",
      "photoUrl": "",
      "userId": "15448100786581130255"
     },
     "user_tz": -480
    },
    "id": "obkJK6CQ4hs_",
    "outputId": "42c3f8ee-b015-4206-d0e4-c95c54f4d1b1"
   },
   "outputs": [
    {
     "name": "stdout",
     "output_type": "stream",
     "text": [
      "Downloading data from https://storage.googleapis.com/tensorflow/tf-keras-datasets/imdb.npz\n",
      "17465344/17464789 [==============================] - 0s 0us/step\n"
     ]
    },
    {
     "name": "stderr",
     "output_type": "stream",
     "text": [
      "<string>:6: VisibleDeprecationWarning: Creating an ndarray from ragged nested sequences (which is a list-or-tuple of lists-or-tuples-or ndarrays with different lengths or shapes) is deprecated. If you meant to do this, you must specify 'dtype=object' when creating the ndarray\n",
      "/usr/local/lib/python3.7/dist-packages/tensorflow/python/keras/datasets/imdb.py:159: VisibleDeprecationWarning: Creating an ndarray from ragged nested sequences (which is a list-or-tuple of lists-or-tuples-or ndarrays with different lengths or shapes) is deprecated. If you meant to do this, you must specify 'dtype=object' when creating the ndarray\n",
      "  x_train, y_train = np.array(xs[:idx]), np.array(labels[:idx])\n"
     ]
    },
    {
     "name": "stdout",
     "output_type": "stream",
     "text": [
      "X_train.shape:  (25000,)\n",
      "Y_train.shape:  (25000,)\n",
      "X_test.shape:  (25000,)\n",
      "Y_test.shape:  (25000,)\n",
      "[1, 14, 22, 16, 43, 530, 973, 2, 2, 65, 458, 2, 66, 2, 4, 173, 36, 256, 5, 25, 100, 43, 838, 112, 50, 670, 2, 9, 35, 480, 284, 5, 150, 4, 172, 112, 167, 2, 336, 385, 39, 4, 172, 2, 2, 17, 546, 38, 13, 447, 4, 192, 50, 16, 6, 147, 2, 19, 14, 22, 4, 2, 2, 469, 4, 22, 71, 87, 12, 16, 43, 530, 38, 76, 15, 13, 2, 4, 22, 17, 515, 17, 12, 16, 626, 18, 2, 5, 62, 386, 12, 8, 316, 8, 106, 5, 4, 2, 2, 16, 480, 66, 2, 33, 4, 130, 12, 16, 38, 619, 5, 25, 124, 51, 36, 135, 48, 25, 2, 33, 6, 22, 12, 215, 28, 77, 52, 5, 14, 407, 16, 82, 2, 8, 4, 107, 117, 2, 15, 256, 4, 2, 7, 2, 5, 723, 36, 71, 43, 530, 476, 26, 400, 317, 46, 7, 4, 2, 2, 13, 104, 88, 4, 381, 15, 297, 98, 32, 2, 56, 26, 141, 6, 194, 2, 18, 4, 226, 22, 21, 134, 476, 26, 480, 5, 144, 30, 2, 18, 51, 36, 28, 224, 92, 25, 104, 4, 226, 65, 16, 38, 2, 88, 12, 16, 283, 5, 16, 2, 113, 103, 32, 15, 16, 2, 19, 178, 32]\n",
      "1\n"
     ]
    },
    {
     "name": "stderr",
     "output_type": "stream",
     "text": [
      "/usr/local/lib/python3.7/dist-packages/tensorflow/python/keras/datasets/imdb.py:160: VisibleDeprecationWarning: Creating an ndarray from ragged nested sequences (which is a list-or-tuple of lists-or-tuples-or ndarrays with different lengths or shapes) is deprecated. If you meant to do this, you must specify 'dtype=object' when creating the ndarray\n",
      "  x_test, y_test = np.array(xs[idx:]), np.array(labels[idx:])\n"
     ]
    }
   ],
   "source": [
    "from keras.datasets import imdb\n",
    "\n",
    "# 載入 IMDb 資料集, 如果是第一次載入會自行下載資料集\n",
    "top_words = 1000\n",
    "(X_train, Y_train), (X_test, Y_test) = imdb.load_data(num_words = top_words)\n",
    "# 形狀\n",
    "print(\"X_train.shape: \", X_train.shape)\n",
    "print(\"Y_train.shape: \", Y_train.shape)\n",
    "print(\"X_test.shape: \", X_test.shape)\n",
    "print(\"Y_test.shape: \", Y_test.shape)\n",
    "# 顯示 Numpy 陣列內容\n",
    "print(X_train[0])\n",
    "print(Y_train[0])   # 標籤資料\n"
   ]
  },
  {
   "cell_type": "code",
   "execution_count": 4,
   "metadata": {
    "colab": {
     "base_uri": "https://localhost:8080/"
    },
    "executionInfo": {
     "elapsed": 8296,
     "status": "ok",
     "timestamp": 1620744269657,
     "user": {
      "displayName": "rex tsou",
      "photoUrl": "",
      "userId": "15448100786581130255"
     },
     "user_tz": -480
    },
    "id": "LEdzIBIE4sZX",
    "outputId": "c1191f34-402d-49fe-e409-26b03a960fab"
   },
   "outputs": [
    {
     "name": "stderr",
     "output_type": "stream",
     "text": [
      "<string>:6: VisibleDeprecationWarning: Creating an ndarray from ragged nested sequences (which is a list-or-tuple of lists-or-tuples-or ndarrays with different lengths or shapes) is deprecated. If you meant to do this, you must specify 'dtype=object' when creating the ndarray\n",
      "/usr/local/lib/python3.7/dist-packages/tensorflow/python/keras/datasets/imdb.py:159: VisibleDeprecationWarning: Creating an ndarray from ragged nested sequences (which is a list-or-tuple of lists-or-tuples-or ndarrays with different lengths or shapes) is deprecated. If you meant to do this, you must specify 'dtype=object' when creating the ndarray\n",
      "  x_train, y_train = np.array(xs[:idx]), np.array(labels[:idx])\n"
     ]
    },
    {
     "name": "stdout",
     "output_type": "stream",
     "text": [
      "Max Index:  999\n",
      "Downloading data from https://storage.googleapis.com/tensorflow/tf-keras-datasets/imdb_word_index.json\n",
      "1646592/1641221 [==============================] - 0s 0us/step\n",
      "'we' index: 72\n",
      "we\n",
      "['?', 'this', 'film', 'was', 'just', 'brilliant', 'casting', '?', '?', 'story', 'direction', '?', 'really', '?', 'the', 'part', 'they', 'played', 'and', 'you', 'could', 'just', 'imagine', 'being', 'there', 'robert', '?', 'is', 'an', 'amazing', 'actor', 'and', 'now', 'the', 'same', 'being', 'director', '?', 'father', 'came', 'from', 'the', 'same', '?', '?', 'as', 'myself', 'so', 'i', 'loved', 'the', 'fact', 'there', 'was', 'a', 'real', '?', 'with', 'this', 'film', 'the', '?', '?', 'throughout', 'the', 'film', 'were', 'great', 'it', 'was', 'just', 'brilliant', 'so', 'much', 'that', 'i', '?', 'the', 'film', 'as', 'soon', 'as', 'it', 'was', 'released', 'for', '?', 'and', 'would', 'recommend', 'it', 'to', 'everyone', 'to', 'watch', 'and', 'the', '?', '?', 'was', 'amazing', 'really', '?', 'at', 'the', 'end', 'it', 'was', 'so', 'sad', 'and', 'you', 'know', 'what', 'they', 'say', 'if', 'you', '?', 'at', 'a', 'film', 'it', 'must', 'have', 'been', 'good', 'and', 'this', 'definitely', 'was', 'also', '?', 'to', 'the', 'two', 'little', '?', 'that', 'played', 'the', '?', 'of', '?', 'and', 'paul', 'they', 'were', 'just', 'brilliant', 'children', 'are', 'often', 'left', 'out', 'of', 'the', '?', '?', 'i', 'think', 'because', 'the', 'stars', 'that', 'play', 'them', 'all', '?', 'up', 'are', 'such', 'a', 'big', '?', 'for', 'the', 'whole', 'film', 'but', 'these', 'children', 'are', 'amazing', 'and', 'should', 'be', '?', 'for', 'what', 'they', 'have', 'done', \"don't\", 'you', 'think', 'the', 'whole', 'story', 'was', 'so', '?', 'because', 'it', 'was', 'true', 'and', 'was', '?', 'life', 'after', 'all', 'that', 'was', '?', 'with', 'us', 'all']\n",
      "? this film was just brilliant casting ? ? story direction ? really ? the part they played and you could just imagine being there robert ? is an amazing actor and now the same being director ? father came from the same ? ? as myself so i loved the fact there was a real ? with this film the ? ? throughout the film were great it was just brilliant so much that i ? the film as soon as it was released for ? and would recommend it to everyone to watch and the ? ? was amazing really ? at the end it was so sad and you know what they say if you ? at a film it must have been good and this definitely was also ? to the two little ? that played the ? of ? and paul they were just brilliant children are often left out of the ? ? i think because the stars that play them all ? up are such a big ? for the whole film but these children are amazing and should be ? for what they have done don't you think the whole story was so ? because it was true and was ? life after all that was ? with us all\n"
     ]
    },
    {
     "name": "stderr",
     "output_type": "stream",
     "text": [
      "/usr/local/lib/python3.7/dist-packages/tensorflow/python/keras/datasets/imdb.py:160: VisibleDeprecationWarning: Creating an ndarray from ragged nested sequences (which is a list-or-tuple of lists-or-tuples-or ndarrays with different lengths or shapes) is deprecated. If you meant to do this, you must specify 'dtype=object' when creating the ndarray\n",
      "  x_test, y_test = np.array(xs[idx:]), np.array(labels[idx:])\n"
     ]
    }
   ],
   "source": [
    "from keras.datasets import imdb\n",
    "\n",
    "# 載入 IMDb 資料集, 如果是第一次載入會自行下載資料集\n",
    "top_words = 1000\n",
    "(X_train, Y_train), (X_test, Y_test) = imdb.load_data(num_words = top_words)\n",
    "# 最大的單字索引值\n",
    "max_index = max(max(sequence) for sequence in X_train)\n",
    "print(\"Max Index: \", max_index)\n",
    "# 建立評論文字的解碼字典\n",
    "word_index = imdb.get_word_index()\n",
    "we_index = word_index[\"we\"]\n",
    "print(\"'we' index:\", we_index)\n",
    "decode_word_map = dict([(value, key) for (key, value)\n",
    "                                  in word_index.items()])\n",
    "print(decode_word_map[we_index])\n",
    "# 解碼顯示評論文字內容\n",
    "decoded_indices = [decode_word_map.get(i-3, \"?\")\n",
    "                           for i in X_train[0]]\n",
    "print(decoded_indices)\n",
    "decoded_review = \" \".join(decoded_indices)\n",
    "print(decoded_review)"
   ]
  },
  {
   "cell_type": "code",
   "execution_count": 5,
   "metadata": {
    "executionInfo": {
     "elapsed": 642,
     "status": "ok",
     "timestamp": 1620744296661,
     "user": {
      "displayName": "rex tsou",
      "photoUrl": "",
      "userId": "15448100786581130255"
     },
     "user_tz": -480
    },
    "id": "OCKcYnP04xDk"
   },
   "outputs": [],
   "source": [
    "from keras.datasets import imdb\n",
    "from keras.preprocessing import sequence"
   ]
  },
  {
   "cell_type": "code",
   "execution_count": 6,
   "metadata": {
    "colab": {
     "base_uri": "https://localhost:8080/"
    },
    "executionInfo": {
     "elapsed": 8196,
     "status": "ok",
     "timestamp": 1620744306070,
     "user": {
      "displayName": "rex tsou",
      "photoUrl": "",
      "userId": "15448100786581130255"
     },
     "user_tz": -480
    },
    "id": "_1WXviv243L2",
    "outputId": "69270395-b088-4cd1-c73f-c377d8379140"
   },
   "outputs": [
    {
     "name": "stderr",
     "output_type": "stream",
     "text": [
      "<string>:6: VisibleDeprecationWarning: Creating an ndarray from ragged nested sequences (which is a list-or-tuple of lists-or-tuples-or ndarrays with different lengths or shapes) is deprecated. If you meant to do this, you must specify 'dtype=object' when creating the ndarray\n",
      "/usr/local/lib/python3.7/dist-packages/tensorflow/python/keras/datasets/imdb.py:159: VisibleDeprecationWarning: Creating an ndarray from ragged nested sequences (which is a list-or-tuple of lists-or-tuples-or ndarrays with different lengths or shapes) is deprecated. If you meant to do this, you must specify 'dtype=object' when creating the ndarray\n",
      "  x_train, y_train = np.array(xs[:idx]), np.array(labels[:idx])\n",
      "/usr/local/lib/python3.7/dist-packages/tensorflow/python/keras/datasets/imdb.py:160: VisibleDeprecationWarning: Creating an ndarray from ragged nested sequences (which is a list-or-tuple of lists-or-tuples-or ndarrays with different lengths or shapes) is deprecated. If you meant to do this, you must specify 'dtype=object' when creating the ndarray\n",
      "  x_test, y_test = np.array(xs[idx:]), np.array(labels[idx:])\n"
     ]
    },
    {
     "name": "stdout",
     "output_type": "stream",
     "text": [
      "X_train.shape:  (25000, 100)\n",
      "X_test.shape:  (25000, 100)\n"
     ]
    }
   ],
   "source": [
    "# 載入 IMDb 資料集, 如果是第一次載入會自行下載資料集\n",
    "top_words = 1000\n",
    "(X_train, Y_train), (X_test, Y_test) = imdb.load_data(num_words = top_words)\n",
    "max_words = 100\n",
    "X_train = sequence.pad_sequences(X_train, maxlen = max_words)\n",
    "X_test = sequence.pad_sequences(X_test, maxlen = max_words)\n",
    "\n",
    "print(\"X_train.shape: \", X_train.shape)\n",
    "print(\"X_test.shape: \", X_test.shape)"
   ]
  },
  {
   "cell_type": "code",
   "execution_count": 1,
   "metadata": {
    "colab": {
     "base_uri": "https://localhost:8080/"
    },
    "executionInfo": {
     "elapsed": 22730,
     "status": "ok",
     "timestamp": 1620744361805,
     "user": {
      "displayName": "rex tsou",
      "photoUrl": "",
      "userId": "15448100786581130255"
     },
     "user_tz": -480
    },
    "id": "A_0UWJlL5zF9",
    "outputId": "003fcb24-c92d-43e0-8b11-aa66b3008f32"
   },
   "outputs": [
    {
     "name": "stdout",
     "output_type": "stream",
     "text": [
      "Downloading data from https://storage.googleapis.com/tensorflow/tf-keras-datasets/imdb.npz\n",
      "17465344/17464789 [==============================] - 0s 0us/step\n"
     ]
    },
    {
     "name": "stderr",
     "output_type": "stream",
     "text": [
      "<string>:6: VisibleDeprecationWarning: Creating an ndarray from ragged nested sequences (which is a list-or-tuple of lists-or-tuples-or ndarrays with different lengths or shapes) is deprecated. If you meant to do this, you must specify 'dtype=object' when creating the ndarray\n",
      "/usr/local/lib/python3.7/dist-packages/tensorflow/python/keras/datasets/imdb.py:159: VisibleDeprecationWarning: Creating an ndarray from ragged nested sequences (which is a list-or-tuple of lists-or-tuples-or ndarrays with different lengths or shapes) is deprecated. If you meant to do this, you must specify 'dtype=object' when creating the ndarray\n",
      "  x_train, y_train = np.array(xs[:idx]), np.array(labels[:idx])\n",
      "/usr/local/lib/python3.7/dist-packages/tensorflow/python/keras/datasets/imdb.py:160: VisibleDeprecationWarning: Creating an ndarray from ragged nested sequences (which is a list-or-tuple of lists-or-tuples-or ndarrays with different lengths or shapes) is deprecated. If you meant to do this, you must specify 'dtype=object' when creating the ndarray\n",
      "  x_test, y_test = np.array(xs[idx:]), np.array(labels[idx:])\n"
     ]
    },
    {
     "name": "stdout",
     "output_type": "stream",
     "text": [
      "Model: \"sequential\"\n",
      "_________________________________________________________________\n",
      "Layer (type)                 Output Shape              Param #   \n",
      "=================================================================\n",
      "embedding (Embedding)        (None, 100, 32)           32000     \n",
      "_________________________________________________________________\n",
      "dropout (Dropout)            (None, 100, 32)           0         \n",
      "_________________________________________________________________\n",
      "flatten (Flatten)            (None, 3200)              0         \n",
      "_________________________________________________________________\n",
      "dense (Dense)                (None, 256)               819456    \n",
      "_________________________________________________________________\n",
      "dropout_1 (Dropout)          (None, 256)               0         \n",
      "_________________________________________________________________\n",
      "dense_1 (Dense)              (None, 1)                 257       \n",
      "=================================================================\n",
      "Total params: 851,713\n",
      "Trainable params: 851,713\n",
      "Non-trainable params: 0\n",
      "_________________________________________________________________\n",
      "Epoch 1/5\n",
      "157/157 - 4s - loss: 0.5633 - accuracy: 0.6867 - val_loss: 0.4145 - val_accuracy: 0.8068\n",
      "Epoch 2/5\n",
      "157/157 - 1s - loss: 0.3558 - accuracy: 0.8423 - val_loss: 0.4014 - val_accuracy: 0.8176\n",
      "Epoch 3/5\n",
      "157/157 - 1s - loss: 0.2843 - accuracy: 0.8813 - val_loss: 0.4461 - val_accuracy: 0.7996\n",
      "Epoch 4/5\n",
      "157/157 - 1s - loss: 0.2245 - accuracy: 0.9081 - val_loss: 0.4759 - val_accuracy: 0.8012\n",
      "Epoch 5/5\n",
      "157/157 - 1s - loss: 0.1680 - accuracy: 0.9332 - val_loss: 0.5429 - val_accuracy: 0.7950\n",
      "782/782 [==============================] - 2s 2ms/step - loss: 0.5308 - accuracy: 0.7984\n",
      "測試資料集的準確度 = 0.80\n"
     ]
    }
   ],
   "source": [
    "import numpy as np\n",
    "from keras.datasets import imdb\n",
    "from keras.preprocessing import sequence\n",
    "from keras.models import Sequential\n",
    "from keras.layers import Dense, Dropout, Embedding, Flatten\n",
    "\n",
    "seed = 10\n",
    "np.random.seed(seed)  # 指定亂數種子\n",
    "# 載入 IMDb 資料集\n",
    "top_words = 1000\n",
    "(X_train, Y_train), (X_test, Y_test) = imdb.load_data(num_words = top_words)\n",
    "# 資料預處理\n",
    "max_words = 100\n",
    "X_train = sequence.pad_sequences(X_train, maxlen = max_words)\n",
    "X_test = sequence.pad_sequences(X_test, maxlen = max_words)\n",
    "# 定義模型\n",
    "model = Sequential()\n",
    "model.add(Embedding(top_words, 32, input_length = max_words))\n",
    "model.add(Dropout(0.25))\n",
    "model.add(Flatten())\n",
    "model.add(Dense(256, activation = \"relu\"))\n",
    "model.add(Dropout(0.25))\n",
    "model.add(Dense(1, activation = \"sigmoid\"))\n",
    "model.summary()   # 顯示模型摘要資訊\n",
    "# 編譯模型\n",
    "model.compile(loss = \"binary_crossentropy\", optimizer = \"adam\", \n",
    "              metrics = [\"accuracy\"])\n",
    "# 訓練模型\n",
    "history = model.fit(X_train, Y_train, validation_split = 0.2, \n",
    "          epochs = 5, batch_size = 128, verbose = 2)\n",
    "# 評估模型\n",
    "loss, accuracy = model.evaluate(X_test, Y_test)\n",
    "print(\"測試資料集的準確度 = {:.2f}\".format(accuracy))\n",
    "\n",
    "\n"
   ]
  },
  {
   "cell_type": "code",
   "execution_count": 2,
   "metadata": {
    "colab": {
     "base_uri": "https://localhost:8080/"
    },
    "executionInfo": {
     "elapsed": 19908,
     "status": "ok",
     "timestamp": 1620744387870,
     "user": {
      "displayName": "rex tsou",
      "photoUrl": "",
      "userId": "15448100786581130255"
     },
     "user_tz": -480
    },
    "id": "1vmiv7an45_B",
    "outputId": "8590ebe0-05c5-43a6-f7cc-75d07a69122f"
   },
   "outputs": [
    {
     "name": "stderr",
     "output_type": "stream",
     "text": [
      "<string>:6: VisibleDeprecationWarning: Creating an ndarray from ragged nested sequences (which is a list-or-tuple of lists-or-tuples-or ndarrays with different lengths or shapes) is deprecated. If you meant to do this, you must specify 'dtype=object' when creating the ndarray\n",
      "/usr/local/lib/python3.7/dist-packages/tensorflow/python/keras/datasets/imdb.py:159: VisibleDeprecationWarning: Creating an ndarray from ragged nested sequences (which is a list-or-tuple of lists-or-tuples-or ndarrays with different lengths or shapes) is deprecated. If you meant to do this, you must specify 'dtype=object' when creating the ndarray\n",
      "  x_train, y_train = np.array(xs[:idx]), np.array(labels[:idx])\n",
      "/usr/local/lib/python3.7/dist-packages/tensorflow/python/keras/datasets/imdb.py:160: VisibleDeprecationWarning: Creating an ndarray from ragged nested sequences (which is a list-or-tuple of lists-or-tuples-or ndarrays with different lengths or shapes) is deprecated. If you meant to do this, you must specify 'dtype=object' when creating the ndarray\n",
      "  x_test, y_test = np.array(xs[idx:]), np.array(labels[idx:])\n"
     ]
    },
    {
     "name": "stdout",
     "output_type": "stream",
     "text": [
      "Model: \"sequential_1\"\n",
      "_________________________________________________________________\n",
      "Layer (type)                 Output Shape              Param #   \n",
      "=================================================================\n",
      "embedding_1 (Embedding)      (None, 500, 32)           320000    \n",
      "_________________________________________________________________\n",
      "dropout_2 (Dropout)          (None, 500, 32)           0         \n",
      "_________________________________________________________________\n",
      "flatten_1 (Flatten)          (None, 16000)             0         \n",
      "_________________________________________________________________\n",
      "dense_2 (Dense)              (None, 256)               4096256   \n",
      "_________________________________________________________________\n",
      "dropout_3 (Dropout)          (None, 256)               0         \n",
      "_________________________________________________________________\n",
      "dense_3 (Dense)              (None, 1)                 257       \n",
      "=================================================================\n",
      "Total params: 4,416,513\n",
      "Trainable params: 4,416,513\n",
      "Non-trainable params: 0\n",
      "_________________________________________________________________\n",
      "Epoch 1/5\n",
      "157/157 - 3s - loss: 0.5044 - accuracy: 0.7258 - val_loss: 0.2980 - val_accuracy: 0.8784\n",
      "Epoch 2/5\n",
      "157/157 - 2s - loss: 0.1718 - accuracy: 0.9348 - val_loss: 0.3238 - val_accuracy: 0.8668\n",
      "Epoch 3/5\n",
      "157/157 - 2s - loss: 0.0509 - accuracy: 0.9858 - val_loss: 0.3874 - val_accuracy: 0.8764\n",
      "Epoch 4/5\n",
      "157/157 - 2s - loss: 0.0165 - accuracy: 0.9963 - val_loss: 0.4556 - val_accuracy: 0.8706\n",
      "Epoch 5/5\n",
      "157/157 - 2s - loss: 0.0085 - accuracy: 0.9983 - val_loss: 0.5131 - val_accuracy: 0.8718\n",
      "782/782 [==============================] - 2s 3ms/step - loss: 0.5128 - accuracy: 0.8645\n",
      "測試資料集的準確度 = 0.86\n"
     ]
    }
   ],
   "source": [
    "import numpy as np\n",
    "from keras.datasets import imdb\n",
    "from keras.preprocessing import sequence\n",
    "from keras.models import Sequential\n",
    "from keras.layers import Dense, Dropout, Embedding, Flatten\n",
    "\n",
    "seed = 10\n",
    "np.random.seed(seed)  # 指定亂數種子\n",
    "# 載入 IMDb 資料集\n",
    "top_words = 10000\n",
    "(X_train, Y_train), (X_test, Y_test) = imdb.load_data(\n",
    "                                num_words = top_words)\n",
    "# 資料預處理\n",
    "max_words = 500\n",
    "X_train = sequence.pad_sequences(X_train, maxlen = max_words)\n",
    "X_test = sequence.pad_sequences(X_test, maxlen = max_words)\n",
    "# 定義模型\n",
    "model = Sequential()\n",
    "model.add(Embedding(top_words, 32, input_length = max_words))\n",
    "model.add(Dropout(0.25))\n",
    "model.add(Flatten())\n",
    "model.add(Dense(256, activation = \"relu\"))\n",
    "model.add(Dropout(0.25))\n",
    "model.add(Dense(1, activation = \"sigmoid\"))\n",
    "model.summary()   # 顯示模型摘要資訊\n",
    "# 編譯模型\n",
    "model.compile(loss=\"binary_crossentropy\", optimizer = \"adam\", \n",
    "              metrics = [\"accuracy\"])\n",
    "# 訓練模型\n",
    "history = model.fit(X_train, Y_train, validation_split = 0.2, \n",
    "          epochs = 5, batch_size = 128, verbose=2)\n",
    "# 評估模型\n",
    "loss, accuracy = model.evaluate(X_test, Y_test)\n",
    "print(\"測試資料集的準確度 = {:.2f}\".format(accuracy))\n",
    "\n"
   ]
  },
  {
   "cell_type": "code",
   "execution_count": 3,
   "metadata": {
    "colab": {
     "base_uri": "https://localhost:8080/"
    },
    "executionInfo": {
     "elapsed": 27120,
     "status": "ok",
     "timestamp": 1620744407842,
     "user": {
      "displayName": "rex tsou",
      "photoUrl": "",
      "userId": "15448100786581130255"
     },
     "user_tz": -480
    },
    "id": "_rvMeilv5G8R",
    "outputId": "d719916b-5979-4654-9114-9c311e249e5f"
   },
   "outputs": [
    {
     "name": "stderr",
     "output_type": "stream",
     "text": [
      "<string>:6: VisibleDeprecationWarning: Creating an ndarray from ragged nested sequences (which is a list-or-tuple of lists-or-tuples-or ndarrays with different lengths or shapes) is deprecated. If you meant to do this, you must specify 'dtype=object' when creating the ndarray\n",
      "/usr/local/lib/python3.7/dist-packages/tensorflow/python/keras/datasets/imdb.py:159: VisibleDeprecationWarning: Creating an ndarray from ragged nested sequences (which is a list-or-tuple of lists-or-tuples-or ndarrays with different lengths or shapes) is deprecated. If you meant to do this, you must specify 'dtype=object' when creating the ndarray\n",
      "  x_train, y_train = np.array(xs[:idx]), np.array(labels[:idx])\n",
      "/usr/local/lib/python3.7/dist-packages/tensorflow/python/keras/datasets/imdb.py:160: VisibleDeprecationWarning: Creating an ndarray from ragged nested sequences (which is a list-or-tuple of lists-or-tuples-or ndarrays with different lengths or shapes) is deprecated. If you meant to do this, you must specify 'dtype=object' when creating the ndarray\n",
      "  x_test, y_test = np.array(xs[idx:]), np.array(labels[idx:])\n"
     ]
    },
    {
     "name": "stdout",
     "output_type": "stream",
     "text": [
      "Model: \"sequential_2\"\n",
      "_________________________________________________________________\n",
      "Layer (type)                 Output Shape              Param #   \n",
      "=================================================================\n",
      "embedding_2 (Embedding)      (None, 500, 32)           320000    \n",
      "_________________________________________________________________\n",
      "dropout_4 (Dropout)          (None, 500, 32)           0         \n",
      "_________________________________________________________________\n",
      "flatten_2 (Flatten)          (None, 16000)             0         \n",
      "_________________________________________________________________\n",
      "dense_4 (Dense)              (None, 128)               2048128   \n",
      "_________________________________________________________________\n",
      "dropout_5 (Dropout)          (None, 128)               0         \n",
      "_________________________________________________________________\n",
      "dense_5 (Dense)              (None, 128)               16512     \n",
      "_________________________________________________________________\n",
      "dropout_6 (Dropout)          (None, 128)               0         \n",
      "_________________________________________________________________\n",
      "dense_6 (Dense)              (None, 1)                 129       \n",
      "=================================================================\n",
      "Total params: 2,384,769\n",
      "Trainable params: 2,384,769\n",
      "Non-trainable params: 0\n",
      "_________________________________________________________________\n",
      "Epoch 1/5\n",
      "157/157 - 3s - loss: 0.5768 - accuracy: 0.6551 - val_loss: 0.3215 - val_accuracy: 0.8626\n",
      "Epoch 2/5\n",
      "157/157 - 2s - loss: 0.2170 - accuracy: 0.9176 - val_loss: 0.3695 - val_accuracy: 0.8480\n",
      "Epoch 3/5\n",
      "157/157 - 2s - loss: 0.0698 - accuracy: 0.9756 - val_loss: 0.4262 - val_accuracy: 0.8666\n",
      "Epoch 4/5\n",
      "157/157 - 2s - loss: 0.0297 - accuracy: 0.9896 - val_loss: 0.5125 - val_accuracy: 0.8636\n",
      "Epoch 5/5\n",
      "157/157 - 2s - loss: 0.0161 - accuracy: 0.9942 - val_loss: 0.6611 - val_accuracy: 0.8638\n",
      "782/782 [==============================] - 2s 3ms/step - loss: 0.6975 - accuracy: 0.8562\n",
      "測試資料集的準確度 = 0.86\n"
     ]
    }
   ],
   "source": [
    "import numpy as np\n",
    "from keras.datasets import imdb\n",
    "from keras.preprocessing import sequence\n",
    "from keras.models import Sequential\n",
    "from keras.layers import Dense, Dropout, Embedding, Flatten\n",
    "\n",
    "seed = 10\n",
    "np.random.seed(seed)  # 指定亂數種子\n",
    "# 載入 IMDb 資料集\n",
    "top_words = 10000\n",
    "(X_train, Y_train), (X_test, Y_test) = imdb.load_data(\n",
    "                                num_words=top_words)\n",
    "# 資料預處理\n",
    "max_words = 500\n",
    "X_train = sequence.pad_sequences(X_train, maxlen = max_words)\n",
    "X_test = sequence.pad_sequences(X_test, maxlen = max_words)\n",
    "# 定義模型\n",
    "model = Sequential()\n",
    "model.add(Embedding(top_words, 32, input_length = max_words))\n",
    "model.add(Dropout(0.25))\n",
    "model.add(Flatten())\n",
    "model.add(Dense(128, activation = \"relu\"))\n",
    "model.add(Dropout(0.25))\n",
    "model.add(Dense(128, activation = \"relu\"))\n",
    "model.add(Dropout(0.25))\n",
    "model.add(Dense(1, activation = \"sigmoid\"))\n",
    "model.summary()   # 顯示模型摘要資訊\n",
    "# 編譯模型\n",
    "model.compile(loss = \"binary_crossentropy\", optimizer = \"adam\", \n",
    "              metrics = [\"accuracy\"])\n",
    "# 訓練模型\n",
    "history = model.fit(X_train, Y_train, validation_split = 0.2, \n",
    "          epochs = 5, batch_size = 128, verbose = 2)\n",
    "# 評估模型\n",
    "loss, accuracy = model.evaluate(X_test, Y_test)\n",
    "print(\"測試資料集的準確度 = {:.2f}\".format(accuracy))\n",
    "\n",
    "\n"
   ]
  },
  {
   "cell_type": "code",
   "execution_count": 4,
   "metadata": {
    "colab": {
     "base_uri": "https://localhost:8080/"
    },
    "executionInfo": {
     "elapsed": 13342,
     "status": "ok",
     "timestamp": 1620744421199,
     "user": {
      "displayName": "rex tsou",
      "photoUrl": "",
      "userId": "15448100786581130255"
     },
     "user_tz": -480
    },
    "id": "sjJcOzcO5Ks7",
    "outputId": "e2e4ef79-422e-4700-a6e3-56ed89083e32"
   },
   "outputs": [
    {
     "name": "stderr",
     "output_type": "stream",
     "text": [
      "<string>:6: VisibleDeprecationWarning: Creating an ndarray from ragged nested sequences (which is a list-or-tuple of lists-or-tuples-or ndarrays with different lengths or shapes) is deprecated. If you meant to do this, you must specify 'dtype=object' when creating the ndarray\n",
      "/usr/local/lib/python3.7/dist-packages/tensorflow/python/keras/datasets/imdb.py:159: VisibleDeprecationWarning: Creating an ndarray from ragged nested sequences (which is a list-or-tuple of lists-or-tuples-or ndarrays with different lengths or shapes) is deprecated. If you meant to do this, you must specify 'dtype=object' when creating the ndarray\n",
      "  x_train, y_train = np.array(xs[:idx]), np.array(labels[:idx])\n",
      "/usr/local/lib/python3.7/dist-packages/tensorflow/python/keras/datasets/imdb.py:160: VisibleDeprecationWarning: Creating an ndarray from ragged nested sequences (which is a list-or-tuple of lists-or-tuples-or ndarrays with different lengths or shapes) is deprecated. If you meant to do this, you must specify 'dtype=object' when creating the ndarray\n",
      "  x_test, y_test = np.array(xs[idx:]), np.array(labels[idx:])\n"
     ]
    },
    {
     "name": "stdout",
     "output_type": "stream",
     "text": [
      "Model: \"sequential_3\"\n",
      "_________________________________________________________________\n",
      "Layer (type)                 Output Shape              Param #   \n",
      "=================================================================\n",
      "embedding_3 (Embedding)      (None, 100, 32)           32000     \n",
      "_________________________________________________________________\n",
      "flatten_3 (Flatten)          (None, 3200)              0         \n",
      "_________________________________________________________________\n",
      "dense_7 (Dense)              (None, 256)               819456    \n",
      "_________________________________________________________________\n",
      "dense_8 (Dense)              (None, 1)                 257       \n",
      "=================================================================\n",
      "Total params: 851,713\n",
      "Trainable params: 851,713\n",
      "Non-trainable params: 0\n",
      "_________________________________________________________________\n",
      "Epoch 1/5\n",
      "157/157 - 1s - loss: 0.5369 - accuracy: 0.7066 - val_loss: 0.4076 - val_accuracy: 0.8144\n",
      "Epoch 2/5\n",
      "157/157 - 1s - loss: 0.3281 - accuracy: 0.8580 - val_loss: 0.4204 - val_accuracy: 0.8086\n",
      "Epoch 3/5\n",
      "157/157 - 1s - loss: 0.2206 - accuracy: 0.9139 - val_loss: 0.5034 - val_accuracy: 0.7864\n",
      "Epoch 4/5\n",
      "157/157 - 1s - loss: 0.1132 - accuracy: 0.9625 - val_loss: 0.6446 - val_accuracy: 0.7796\n",
      "Epoch 5/5\n",
      "157/157 - 1s - loss: 0.0433 - accuracy: 0.9905 - val_loss: 0.8356 - val_accuracy: 0.7760\n",
      "782/782 [==============================] - 2s 2ms/step - loss: 0.8038 - accuracy: 0.7851\n",
      "測試資料集的準確度 = 0.79\n"
     ]
    }
   ],
   "source": [
    "import numpy as np\n",
    "from keras.datasets import imdb\n",
    "from keras.preprocessing import sequence\n",
    "from keras.models import Sequential\n",
    "from keras.layers import Dense, Embedding, Flatten\n",
    "\n",
    "seed = 10\n",
    "np.random.seed(seed)  # 指定亂數種子\n",
    "# 載入 IMDb 資料集\n",
    "top_words = 1000\n",
    "(X_train, Y_train), (X_test, Y_test) = imdb.load_data(\n",
    "                                num_words = top_words)\n",
    "# 資料預處理\n",
    "max_words = 100\n",
    "X_train = sequence.pad_sequences(X_train, maxlen = max_words)\n",
    "X_test = sequence.pad_sequences(X_test, maxlen = max_words)\n",
    "# 定義模型\n",
    "model = Sequential()\n",
    "model.add(Embedding(top_words, 32, input_length = max_words))\n",
    "model.add(Flatten())\n",
    "model.add(Dense(256, activation = \"relu\"))\n",
    "model.add(Dense(1, activation = \"sigmoid\"))\n",
    "model.summary()   # 顯示模型摘要資訊\n",
    "# 編譯模型\n",
    "model.compile(loss = \"binary_crossentropy\", optimizer = \"adam\", \n",
    "              metrics = [\"accuracy\"])\n",
    "# 訓練模型\n",
    "history = model.fit(X_train, Y_train, validation_split = 0.2, \n",
    "          epochs = 5, batch_size = 128, verbose = 2)\n",
    "# 評估模型\n",
    "loss, accuracy = model.evaluate(X_test, Y_test)\n",
    "print(\"測試資料集的準確度 = {:.2f}\".format(accuracy))\n",
    "\n",
    "\n"
   ]
  },
  {
   "cell_type": "code",
   "execution_count": 5,
   "metadata": {
    "colab": {
     "base_uri": "https://localhost:8080/"
    },
    "executionInfo": {
     "elapsed": 42036,
     "status": "ok",
     "timestamp": 1620744470659,
     "user": {
      "displayName": "rex tsou",
      "photoUrl": "",
      "userId": "15448100786581130255"
     },
     "user_tz": -480
    },
    "id": "aLGPggon5MuD",
    "outputId": "053b0a65-e6f5-490c-960b-205b32f1e735"
   },
   "outputs": [
    {
     "name": "stderr",
     "output_type": "stream",
     "text": [
      "<string>:6: VisibleDeprecationWarning: Creating an ndarray from ragged nested sequences (which is a list-or-tuple of lists-or-tuples-or ndarrays with different lengths or shapes) is deprecated. If you meant to do this, you must specify 'dtype=object' when creating the ndarray\n",
      "/usr/local/lib/python3.7/dist-packages/tensorflow/python/keras/datasets/imdb.py:159: VisibleDeprecationWarning: Creating an ndarray from ragged nested sequences (which is a list-or-tuple of lists-or-tuples-or ndarrays with different lengths or shapes) is deprecated. If you meant to do this, you must specify 'dtype=object' when creating the ndarray\n",
      "  x_train, y_train = np.array(xs[:idx]), np.array(labels[:idx])\n",
      "/usr/local/lib/python3.7/dist-packages/tensorflow/python/keras/datasets/imdb.py:160: VisibleDeprecationWarning: Creating an ndarray from ragged nested sequences (which is a list-or-tuple of lists-or-tuples-or ndarrays with different lengths or shapes) is deprecated. If you meant to do this, you must specify 'dtype=object' when creating the ndarray\n",
      "  x_test, y_test = np.array(xs[idx:]), np.array(labels[idx:])\n"
     ]
    },
    {
     "name": "stdout",
     "output_type": "stream",
     "text": [
      "Model: \"sequential_4\"\n",
      "_________________________________________________________________\n",
      "Layer (type)                 Output Shape              Param #   \n",
      "=================================================================\n",
      "embedding_4 (Embedding)      (None, 100, 32)           32000     \n",
      "_________________________________________________________________\n",
      "dropout_7 (Dropout)          (None, 100, 32)           0         \n",
      "_________________________________________________________________\n",
      "conv1d (Conv1D)              (None, 100, 32)           3104      \n",
      "_________________________________________________________________\n",
      "max_pooling1d (MaxPooling1D) (None, 50, 32)            0         \n",
      "_________________________________________________________________\n",
      "flatten_4 (Flatten)          (None, 1600)              0         \n",
      "_________________________________________________________________\n",
      "dense_9 (Dense)              (None, 256)               409856    \n",
      "_________________________________________________________________\n",
      "dropout_8 (Dropout)          (None, 256)               0         \n",
      "_________________________________________________________________\n",
      "dense_10 (Dense)             (None, 1)                 257       \n",
      "=================================================================\n",
      "Total params: 445,217\n",
      "Trainable params: 445,217\n",
      "Non-trainable params: 0\n",
      "_________________________________________________________________\n",
      "Epoch 1/5\n",
      "157/157 - 29s - loss: 0.5815 - accuracy: 0.6533 - val_loss: 0.3976 - val_accuracy: 0.8232\n",
      "Epoch 2/5\n",
      "157/157 - 1s - loss: 0.3801 - accuracy: 0.8272 - val_loss: 0.3773 - val_accuracy: 0.8304\n",
      "Epoch 3/5\n",
      "157/157 - 1s - loss: 0.3466 - accuracy: 0.8490 - val_loss: 0.3723 - val_accuracy: 0.8340\n",
      "Epoch 4/5\n",
      "157/157 - 1s - loss: 0.3265 - accuracy: 0.8582 - val_loss: 0.3838 - val_accuracy: 0.8234\n",
      "Epoch 5/5\n",
      "157/157 - 1s - loss: 0.3028 - accuracy: 0.8709 - val_loss: 0.3812 - val_accuracy: 0.8296\n",
      "782/782 [==============================] - 2s 2ms/step - loss: 0.3699 - accuracy: 0.8322\n",
      "測試資料集的準確度 = 0.83\n"
     ]
    }
   ],
   "source": [
    "import numpy as np\n",
    "from keras.datasets import imdb\n",
    "from keras.preprocessing import sequence\n",
    "from keras.models import Sequential\n",
    "from keras.layers import Dense, Dropout, Embedding, Flatten\n",
    "from keras.layers import Conv1D\n",
    "from keras.layers import MaxPooling1D\n",
    "\n",
    "seed = 10\n",
    "np.random.seed(seed)  # 指定亂數種子\n",
    "# 載入 IMDb 資料集\n",
    "top_words = 1000\n",
    "(X_train, Y_train), (X_test, Y_test) = imdb.load_data(num_words = top_words)\n",
    "# 資料預處理\n",
    "max_words = 100\n",
    "X_train = sequence.pad_sequences(X_train, maxlen = max_words)\n",
    "X_test = sequence.pad_sequences(X_test, maxlen = max_words)\n",
    "# 定義模型\n",
    "model = Sequential()\n",
    "model.add(Embedding(top_words, 32, input_length = max_words))\n",
    "model.add(Dropout(0.25))\n",
    "model.add(Conv1D(filters = 32, kernel_size = 3, padding = \"same\",\n",
    "                 activation = \"relu\"))\n",
    "model.add(MaxPooling1D(pool_size = 2))\n",
    "model.add(Flatten())\n",
    "model.add(Dense(256, activation = \"relu\"))\n",
    "model.add(Dropout(0.25))\n",
    "model.add(Dense(1, activation = \"sigmoid\"))\n",
    "model.summary()   # 顯示模型摘要資訊\n",
    "# 編譯模型\n",
    "model.compile(loss = \"binary_crossentropy\", optimizer = \"adam\", \n",
    "              metrics = [\"accuracy\"])\n",
    "# 訓練模型\n",
    "history = model.fit(X_train, Y_train, validation_split = 0.2, \n",
    "          epochs = 5, batch_size = 128, verbose = 2)\n",
    "# 評估模型\n",
    "loss, accuracy = model.evaluate(X_test, Y_test)\n",
    "print(\"測試資料集的準確度 = {:.2f}\".format(accuracy))\n",
    "\n",
    "\n"
   ]
  },
  {
   "cell_type": "code",
   "execution_count": 6,
   "metadata": {
    "colab": {
     "base_uri": "https://localhost:8080/"
    },
    "executionInfo": {
     "elapsed": 52323,
     "status": "ok",
     "timestamp": 1620744490555,
     "user": {
      "displayName": "rex tsou",
      "photoUrl": "",
      "userId": "15448100786581130255"
     },
     "user_tz": -480
    },
    "id": "MbNkV1gT5VwY",
    "outputId": "fa259b5f-72e9-43f3-be9f-06184b42e4fb"
   },
   "outputs": [
    {
     "name": "stderr",
     "output_type": "stream",
     "text": [
      "<string>:6: VisibleDeprecationWarning: Creating an ndarray from ragged nested sequences (which is a list-or-tuple of lists-or-tuples-or ndarrays with different lengths or shapes) is deprecated. If you meant to do this, you must specify 'dtype=object' when creating the ndarray\n",
      "/usr/local/lib/python3.7/dist-packages/tensorflow/python/keras/datasets/imdb.py:159: VisibleDeprecationWarning: Creating an ndarray from ragged nested sequences (which is a list-or-tuple of lists-or-tuples-or ndarrays with different lengths or shapes) is deprecated. If you meant to do this, you must specify 'dtype=object' when creating the ndarray\n",
      "  x_train, y_train = np.array(xs[:idx]), np.array(labels[:idx])\n",
      "/usr/local/lib/python3.7/dist-packages/tensorflow/python/keras/datasets/imdb.py:160: VisibleDeprecationWarning: Creating an ndarray from ragged nested sequences (which is a list-or-tuple of lists-or-tuples-or ndarrays with different lengths or shapes) is deprecated. If you meant to do this, you must specify 'dtype=object' when creating the ndarray\n",
      "  x_test, y_test = np.array(xs[idx:]), np.array(labels[idx:])\n"
     ]
    },
    {
     "name": "stdout",
     "output_type": "stream",
     "text": [
      "Model: \"sequential_5\"\n",
      "_________________________________________________________________\n",
      "Layer (type)                 Output Shape              Param #   \n",
      "=================================================================\n",
      "embedding_5 (Embedding)      (None, 500, 32)           32000     \n",
      "_________________________________________________________________\n",
      "dropout_9 (Dropout)          (None, 500, 32)           0         \n",
      "_________________________________________________________________\n",
      "conv1d_1 (Conv1D)            (None, 500, 32)           3104      \n",
      "_________________________________________________________________\n",
      "max_pooling1d_1 (MaxPooling1 (None, 250, 32)           0         \n",
      "_________________________________________________________________\n",
      "flatten_5 (Flatten)          (None, 8000)              0         \n",
      "_________________________________________________________________\n",
      "dense_11 (Dense)             (None, 256)               2048256   \n",
      "_________________________________________________________________\n",
      "dropout_10 (Dropout)         (None, 256)               0         \n",
      "_________________________________________________________________\n",
      "dense_12 (Dense)             (None, 1)                 257       \n",
      "=================================================================\n",
      "Total params: 2,083,617\n",
      "Trainable params: 2,083,617\n",
      "Non-trainable params: 0\n",
      "_________________________________________________________________\n",
      "Epoch 1/5\n",
      "157/157 - 3s - loss: 0.5513 - accuracy: 0.6870 - val_loss: 0.3437 - val_accuracy: 0.8538\n",
      "Epoch 2/5\n",
      "157/157 - 2s - loss: 0.3151 - accuracy: 0.8664 - val_loss: 0.3149 - val_accuracy: 0.8656\n",
      "Epoch 3/5\n",
      "157/157 - 2s - loss: 0.2835 - accuracy: 0.8822 - val_loss: 0.3123 - val_accuracy: 0.8676\n",
      "Epoch 4/5\n",
      "157/157 - 2s - loss: 0.2593 - accuracy: 0.8935 - val_loss: 0.3166 - val_accuracy: 0.8678\n",
      "Epoch 5/5\n",
      "157/157 - 2s - loss: 0.2362 - accuracy: 0.9036 - val_loss: 0.3216 - val_accuracy: 0.8694\n",
      "782/782 [==============================] - 2s 3ms/step - loss: 0.3172 - accuracy: 0.8682\n",
      "測試資料集的準確度 = 0.87\n"
     ]
    }
   ],
   "source": [
    "import numpy as np\n",
    "from keras.datasets import imdb\n",
    "from keras.preprocessing import sequence\n",
    "from keras.models import Sequential\n",
    "from keras.layers import Dense, Dropout, Embedding, Flatten\n",
    "from keras.layers import Conv1D\n",
    "from keras.layers import MaxPooling1D\n",
    "\n",
    "seed = 10\n",
    "np.random.seed(seed)  # 指定亂數種子\n",
    "# 載入 IMDb 資料集\n",
    "top_words = 1000\n",
    "(X_train, Y_train), (X_test, Y_test) = imdb.load_data(\n",
    "                                num_words = top_words)\n",
    "# 資料預處理\n",
    "max_words = 500\n",
    "X_train = sequence.pad_sequences(X_train, maxlen = max_words)\n",
    "X_test = sequence.pad_sequences(X_test, maxlen = max_words)\n",
    "# 定義模型\n",
    "model = Sequential()\n",
    "model.add(Embedding(top_words, 32, input_length = max_words))\n",
    "model.add(Dropout(0.25))\n",
    "model.add(Conv1D(filters = 32, kernel_size = 3, padding = \"same\",\n",
    "                 activation = \"relu\"))\n",
    "model.add(MaxPooling1D(pool_size = 2))\n",
    "model.add(Flatten())\n",
    "model.add(Dense(256, activation = \"relu\"))\n",
    "model.add(Dropout(0.25))\n",
    "model.add(Dense(1, activation = \"sigmoid\"))\n",
    "model.summary()   # 顯示模型摘要資訊\n",
    "# 編譯模型\n",
    "model.compile(loss = \"binary_crossentropy\", optimizer = \"adam\", \n",
    "              metrics = [\"accuracy\"])\n",
    "# 訓練模型\n",
    "history = model.fit(X_train, Y_train, validation_split = 0.2, \n",
    "          epochs = 5, batch_size = 128, verbose = 2)\n",
    "# 評估模型\n",
    "loss, accuracy = model.evaluate(X_test, Y_test)\n",
    "print(\"測試資料集的準確度 = {:.2f}\".format(accuracy))\n",
    "\n",
    "\n"
   ]
  },
  {
   "cell_type": "code",
   "execution_count": 7,
   "metadata": {
    "colab": {
     "base_uri": "https://localhost:8080/"
    },
    "executionInfo": {
     "elapsed": 1222,
     "status": "ok",
     "timestamp": 1620744492562,
     "user": {
      "displayName": "rex tsou",
      "photoUrl": "",
      "userId": "15448100786581130255"
     },
     "user_tz": -480
    },
    "id": "ag83beZb5YGm",
    "outputId": "8f05ba38-c48e-45b9-e9c4-55229e99b08d"
   },
   "outputs": [
    {
     "name": "stdout",
     "output_type": "stream",
     "text": [
      "Model: \"sequential_6\"\n",
      "_________________________________________________________________\n",
      "Layer (type)                 Output Shape              Param #   \n",
      "=================================================================\n",
      "embedding_6 (Embedding)      (None, 100, 32)           320000    \n",
      "_________________________________________________________________\n",
      "simple_rnn (SimpleRNN)       (None, 32)                2080      \n",
      "=================================================================\n",
      "Total params: 322,080\n",
      "Trainable params: 322,080\n",
      "Non-trainable params: 0\n",
      "_________________________________________________________________\n"
     ]
    }
   ],
   "source": [
    "from keras.models import Sequential\n",
    "from keras.layers import Embedding, SimpleRNN\n",
    "\n",
    "# 定義模型\n",
    "model = Sequential()\n",
    "model.add(Embedding(10000, 32, input_length = 100))\n",
    "model.add(SimpleRNN(32))\n",
    "\n",
    "model.summary()   # 顯示模型摘要資訊\n"
   ]
  },
  {
   "cell_type": "code",
   "execution_count": 8,
   "metadata": {
    "colab": {
     "base_uri": "https://localhost:8080/"
    },
    "executionInfo": {
     "elapsed": 2122,
     "status": "ok",
     "timestamp": 1620744493466,
     "user": {
      "displayName": "rex tsou",
      "photoUrl": "",
      "userId": "15448100786581130255"
     },
     "user_tz": -480
    },
    "id": "Ssi5iG8A5fn9",
    "outputId": "6fd1564c-945f-4dfc-d3f5-151490500cb4"
   },
   "outputs": [
    {
     "name": "stdout",
     "output_type": "stream",
     "text": [
      "Model: \"sequential_7\"\n",
      "_________________________________________________________________\n",
      "Layer (type)                 Output Shape              Param #   \n",
      "=================================================================\n",
      "embedding_7 (Embedding)      (None, 100, 32)           320000    \n",
      "_________________________________________________________________\n",
      "lstm (LSTM)                  (None, 100, 32)           8320      \n",
      "=================================================================\n",
      "Total params: 328,320\n",
      "Trainable params: 328,320\n",
      "Non-trainable params: 0\n",
      "_________________________________________________________________\n"
     ]
    }
   ],
   "source": [
    "from keras.models import Sequential\n",
    "from keras.layers import Embedding, LSTM\n",
    "\n",
    "# 定義模型\n",
    "model = Sequential()\n",
    "model.add(Embedding(10000, 32, input_length = 100))\n",
    "model.add(LSTM(32, return_sequences = True))\n",
    "\n",
    "model.summary()   # 顯示模型摘要資訊\n"
   ]
  },
  {
   "cell_type": "code",
   "execution_count": 9,
   "metadata": {
    "colab": {
     "base_uri": "https://localhost:8080/"
    },
    "executionInfo": {
     "elapsed": 2377,
     "status": "ok",
     "timestamp": 1620744493726,
     "user": {
      "displayName": "rex tsou",
      "photoUrl": "",
      "userId": "15448100786581130255"
     },
     "user_tz": -480
    },
    "id": "0X000K5e5iPN",
    "outputId": "b4f4dc9f-2437-4490-c7ab-bf839662c7bc"
   },
   "outputs": [
    {
     "name": "stdout",
     "output_type": "stream",
     "text": [
      "Model: \"sequential_8\"\n",
      "_________________________________________________________________\n",
      "Layer (type)                 Output Shape              Param #   \n",
      "=================================================================\n",
      "embedding_8 (Embedding)      (None, 100, 32)           320000    \n",
      "_________________________________________________________________\n",
      "gru (GRU)                    (None, 100, 32)           6336      \n",
      "_________________________________________________________________\n",
      "gru_1 (GRU)                  (None, 100, 32)           6336      \n",
      "_________________________________________________________________\n",
      "gru_2 (GRU)                  (None, 32)                6336      \n",
      "=================================================================\n",
      "Total params: 339,008\n",
      "Trainable params: 339,008\n",
      "Non-trainable params: 0\n",
      "_________________________________________________________________\n"
     ]
    }
   ],
   "source": [
    "from keras.models import Sequential\n",
    "from keras.layers import Embedding, GRU\n",
    "\n",
    "# 定義模型\n",
    "model = Sequential()\n",
    "model.add(Embedding(10000, 32, input_length = 100))\n",
    "model.add(GRU(32, return_sequences = True))\n",
    "model.add(GRU(32, return_sequences = True))\n",
    "model.add(GRU(32))\n",
    "\n",
    "model.summary()   # 顯示模型摘要資訊\n"
   ]
  },
  {
   "cell_type": "code",
   "execution_count": 10,
   "metadata": {
    "colab": {
     "base_uri": "https://localhost:8080/",
     "height": 1000
    },
    "executionInfo": {
     "elapsed": 68606,
     "status": "error",
     "timestamp": 1620744570218,
     "user": {
      "displayName": "rex tsou",
      "photoUrl": "",
      "userId": "15448100786581130255"
     },
     "user_tz": -480
    },
    "id": "SlHU9nV65kK-",
    "outputId": "578f12a4-fae7-4f02-edc1-73019efaff49"
   },
   "outputs": [
    {
     "name": "stderr",
     "output_type": "stream",
     "text": [
      "<string>:6: VisibleDeprecationWarning: Creating an ndarray from ragged nested sequences (which is a list-or-tuple of lists-or-tuples-or ndarrays with different lengths or shapes) is deprecated. If you meant to do this, you must specify 'dtype=object' when creating the ndarray\n",
      "/usr/local/lib/python3.7/dist-packages/tensorflow/python/keras/datasets/imdb.py:159: VisibleDeprecationWarning: Creating an ndarray from ragged nested sequences (which is a list-or-tuple of lists-or-tuples-or ndarrays with different lengths or shapes) is deprecated. If you meant to do this, you must specify 'dtype=object' when creating the ndarray\n",
      "  x_train, y_train = np.array(xs[:idx]), np.array(labels[:idx])\n",
      "/usr/local/lib/python3.7/dist-packages/tensorflow/python/keras/datasets/imdb.py:160: VisibleDeprecationWarning: Creating an ndarray from ragged nested sequences (which is a list-or-tuple of lists-or-tuples-or ndarrays with different lengths or shapes) is deprecated. If you meant to do this, you must specify 'dtype=object' when creating the ndarray\n",
      "  x_test, y_test = np.array(xs[idx:]), np.array(labels[idx:])\n"
     ]
    },
    {
     "name": "stdout",
     "output_type": "stream",
     "text": [
      "Model: \"sequential_9\"\n",
      "_________________________________________________________________\n",
      "Layer (type)                 Output Shape              Param #   \n",
      "=================================================================\n",
      "embedding_9 (Embedding)      (None, 100, 32)           32000     \n",
      "_________________________________________________________________\n",
      "dropout_11 (Dropout)         (None, 100, 32)           0         \n",
      "_________________________________________________________________\n",
      "simple_rnn_1 (SimpleRNN)     (None, 32)                2080      \n",
      "_________________________________________________________________\n",
      "dropout_12 (Dropout)         (None, 32)                0         \n",
      "_________________________________________________________________\n",
      "dense_13 (Dense)             (None, 1)                 33        \n",
      "=================================================================\n",
      "Total params: 34,113\n",
      "Trainable params: 34,113\n",
      "Non-trainable params: 0\n",
      "_________________________________________________________________\n",
      "Epoch 1/5\n",
      "157/157 - 12s - loss: 0.6759 - accuracy: 0.5622 - val_loss: 0.5729 - val_accuracy: 0.7486\n",
      "Epoch 2/5\n",
      "157/157 - 11s - loss: 0.5047 - accuracy: 0.7663 - val_loss: 0.4494 - val_accuracy: 0.7954\n",
      "Epoch 3/5\n",
      "157/157 - 11s - loss: 0.4321 - accuracy: 0.8094 - val_loss: 0.4325 - val_accuracy: 0.8070\n",
      "Epoch 4/5\n",
      "157/157 - 11s - loss: 0.4113 - accuracy: 0.8210 - val_loss: 0.4496 - val_accuracy: 0.7874\n",
      "Epoch 5/5\n",
      "157/157 - 10s - loss: 0.3958 - accuracy: 0.8286 - val_loss: 0.4465 - val_accuracy: 0.8044\n",
      "782/782 [==============================] - 6s 8ms/step - loss: 0.4327 - accuracy: 0.8108\n",
      "測試資料集的準確度 = 0.81\n"
     ]
    },
    {
     "data": {
      "image/png": "[encoded data removed]",
      "text/plain": [
       "<Figure size 432x288 with 1 Axes>"
      ]
     },
     "metadata": {
      "needs_background": "light",
      "tags": []
     },
     "output_type": "display_data"
    },
    {
     "ename": "KeyError",
     "evalue": "ignored",
     "output_type": "error",
     "traceback": [
      "\u001b[0;31m---------------------------------------------------------------------------\u001b[0m",
      "\u001b[0;31mKeyError\u001b[0m                                  Traceback (most recent call last)",
      "\u001b[0;32m<ipython-input-10-e0abf48c19af>\u001b[0m in \u001b[0;36m<module>\u001b[0;34m()\u001b[0m\n\u001b[1;32m     46\u001b[0m \u001b[0mplt\u001b[0m\u001b[0;34m.\u001b[0m\u001b[0mshow\u001b[0m\u001b[0;34m(\u001b[0m\u001b[0;34m)\u001b[0m\u001b[0;34m\u001b[0m\u001b[0;34m\u001b[0m\u001b[0m\n\u001b[1;32m     47\u001b[0m \u001b[0;31m# 顯示訓練和驗證準確度\u001b[0m\u001b[0;34m\u001b[0m\u001b[0;34m\u001b[0m\u001b[0;34m\u001b[0m\u001b[0m\n\u001b[0;32m---> 48\u001b[0;31m \u001b[0macc\u001b[0m \u001b[0;34m=\u001b[0m \u001b[0mhistory\u001b[0m\u001b[0;34m.\u001b[0m\u001b[0mhistory\u001b[0m\u001b[0;34m[\u001b[0m\u001b[0;34m\"acc\"\u001b[0m\u001b[0;34m]\u001b[0m\u001b[0;34m\u001b[0m\u001b[0;34m\u001b[0m\u001b[0m\n\u001b[0m\u001b[1;32m     49\u001b[0m \u001b[0mepochs\u001b[0m \u001b[0;34m=\u001b[0m \u001b[0mrange\u001b[0m\u001b[0;34m(\u001b[0m\u001b[0;36m1\u001b[0m\u001b[0;34m,\u001b[0m \u001b[0mlen\u001b[0m\u001b[0;34m(\u001b[0m\u001b[0macc\u001b[0m\u001b[0;34m)\u001b[0m\u001b[0;34m+\u001b[0m\u001b[0;36m1\u001b[0m\u001b[0;34m)\u001b[0m\u001b[0;34m\u001b[0m\u001b[0;34m\u001b[0m\u001b[0m\n\u001b[1;32m     50\u001b[0m \u001b[0mval_acc\u001b[0m \u001b[0;34m=\u001b[0m \u001b[0mhistory\u001b[0m\u001b[0;34m.\u001b[0m\u001b[0mhistory\u001b[0m\u001b[0;34m[\u001b[0m\u001b[0;34m\"val_acc\"\u001b[0m\u001b[0;34m]\u001b[0m\u001b[0;34m\u001b[0m\u001b[0;34m\u001b[0m\u001b[0m\n",
      "\u001b[0;31mKeyError\u001b[0m: 'acc'"
     ]
    }
   ],
   "source": [
    "import numpy as np\n",
    "from keras.datasets import imdb\n",
    "from keras.preprocessing import sequence\n",
    "from keras.models import Sequential\n",
    "from keras.layers import Dense, Dropout, Embedding, SimpleRNN\n",
    "\n",
    "seed = 10\n",
    "np.random.seed(seed)  # 指定亂數種子\n",
    "# 載入 IMDb 資料集\n",
    "top_words = 1000\n",
    "(X_train, Y_train), (X_test, Y_test) = imdb.load_data(num_words = top_words)\n",
    "# 資料預處理\n",
    "max_words = 100\n",
    "X_train = sequence.pad_sequences(X_train, maxlen = max_words)\n",
    "X_test = sequence.pad_sequences(X_test, maxlen = max_words)\n",
    "# 定義模型\n",
    "model = Sequential()\n",
    "model.add(Embedding(top_words, 32, input_length = max_words))\n",
    "model.add(Dropout(0.25))\n",
    "model.add(SimpleRNN(32))\n",
    "model.add(Dropout(0.25))\n",
    "model.add(Dense(1, activation = \"sigmoid\"))\n",
    "model.summary()   # 顯示模型摘要資訊\n",
    "# 編譯模型\n",
    "model.compile(loss = \"binary_crossentropy\", optimizer = \"rmsprop\", \n",
    "              metrics = [\"accuracy\"])\n",
    "# 訓練模型\n",
    "history = model.fit(X_train, Y_train, validation_split=0.2, \n",
    "          epochs = 5, batch_size = 128, verbose = 2)\n",
    "# 評估模型\n",
    "loss, accuracy = model.evaluate(X_test, Y_test)\n",
    "print(\"測試資料集的準確度 = {:.2f}\".format(accuracy))\n",
    "# 顯示訓練和驗證損失圖表\n",
    "import matplotlib.pyplot as plt\n",
    "\n",
    "loss = history.history[\"loss\"]\n",
    "epochs = range(1, len(loss) + 1)\n",
    "val_loss = history.history[\"val_loss\"]\n",
    "plt.plot(epochs, loss, \"bo\", label = \"Training Loss\")\n",
    "plt.plot(epochs, val_loss, \"r\", label = \"Validation Loss\")\n",
    "plt.title(\"Training and Validation Loss\")\n",
    "plt.xlabel(\"Epochs\")\n",
    "plt.ylabel(\"Loss\")\n",
    "plt.legend()\n",
    "plt.show()\n",
    "# 顯示訓練和驗證準確度\n",
    "acc = history.history[\"acc\"]\n",
    "epochs = range(1, len(acc) + 1)\n",
    "val_acc = history.history[\"val_acc\"]\n",
    "plt.plot(epochs, acc, \"b-\", label = \"Training Acc\")\n",
    "plt.plot(epochs, val_acc, \"r--\", label = \"Validation Acc\")\n",
    "plt.title(\"Training and Validation Accuracy\")\n",
    "plt.xlabel(\"Epochs\")\n",
    "plt.ylabel(\"Accuracy\")\n",
    "plt.legend()\n",
    "plt.show()\n",
    "# 儲存模型結構和權重\n",
    "model.save(\"imdb_rnn.h5\")\n",
    "\n",
    "\n"
   ]
  },
  {
   "cell_type": "code",
   "execution_count": 11,
   "metadata": {
    "colab": {
     "base_uri": "https://localhost:8080/",
     "height": 1000
    },
    "executionInfo": {
     "elapsed": 69090,
     "status": "error",
     "timestamp": 1620744669984,
     "user": {
      "displayName": "rex tsou",
      "photoUrl": "",
      "userId": "15448100786581130255"
     },
     "user_tz": -480
    },
    "id": "2Q2d91Te5nk9",
    "outputId": "465ac77f-0f57-48e6-f7ef-b8b3abc19781"
   },
   "outputs": [
    {
     "name": "stderr",
     "output_type": "stream",
     "text": [
      "<string>:6: VisibleDeprecationWarning: Creating an ndarray from ragged nested sequences (which is a list-or-tuple of lists-or-tuples-or ndarrays with different lengths or shapes) is deprecated. If you meant to do this, you must specify 'dtype=object' when creating the ndarray\n",
      "/usr/local/lib/python3.7/dist-packages/tensorflow/python/keras/datasets/imdb.py:159: VisibleDeprecationWarning: Creating an ndarray from ragged nested sequences (which is a list-or-tuple of lists-or-tuples-or ndarrays with different lengths or shapes) is deprecated. If you meant to do this, you must specify 'dtype=object' when creating the ndarray\n",
      "  x_train, y_train = np.array(xs[:idx]), np.array(labels[:idx])\n",
      "/usr/local/lib/python3.7/dist-packages/tensorflow/python/keras/datasets/imdb.py:160: VisibleDeprecationWarning: Creating an ndarray from ragged nested sequences (which is a list-or-tuple of lists-or-tuples-or ndarrays with different lengths or shapes) is deprecated. If you meant to do this, you must specify 'dtype=object' when creating the ndarray\n",
      "  x_test, y_test = np.array(xs[idx:]), np.array(labels[idx:])\n"
     ]
    },
    {
     "name": "stdout",
     "output_type": "stream",
     "text": [
      "Model: \"sequential_10\"\n",
      "_________________________________________________________________\n",
      "Layer (type)                 Output Shape              Param #   \n",
      "=================================================================\n",
      "embedding_10 (Embedding)     (None, 100, 32)           32000     \n",
      "_________________________________________________________________\n",
      "dropout_13 (Dropout)         (None, 100, 32)           0         \n",
      "_________________________________________________________________\n",
      "simple_rnn_2 (SimpleRNN)     (None, 32)                2080      \n",
      "_________________________________________________________________\n",
      "dense_14 (Dense)             (None, 256)               8448      \n",
      "_________________________________________________________________\n",
      "dropout_14 (Dropout)         (None, 256)               0         \n",
      "_________________________________________________________________\n",
      "dense_15 (Dense)             (None, 1)                 257       \n",
      "=================================================================\n",
      "Total params: 42,785\n",
      "Trainable params: 42,785\n",
      "Non-trainable params: 0\n",
      "_________________________________________________________________\n",
      "Epoch 1/5\n",
      "157/157 - 12s - loss: 0.6227 - accuracy: 0.6242 - val_loss: 1.0573 - val_accuracy: 0.6512\n",
      "Epoch 2/5\n",
      "157/157 - 11s - loss: 0.4611 - accuracy: 0.7861 - val_loss: 0.4533 - val_accuracy: 0.8050\n",
      "Epoch 3/5\n",
      "157/157 - 11s - loss: 0.4102 - accuracy: 0.8181 - val_loss: 0.4094 - val_accuracy: 0.8202\n",
      "Epoch 4/5\n",
      "157/157 - 11s - loss: 0.3871 - accuracy: 0.8297 - val_loss: 0.4169 - val_accuracy: 0.8132\n",
      "Epoch 5/5\n",
      "157/157 - 11s - loss: 0.3694 - accuracy: 0.8381 - val_loss: 0.5568 - val_accuracy: 0.7962\n",
      "782/782 [==============================] - 6s 8ms/step - loss: 0.5664 - accuracy: 0.7896\n",
      "測試資料集的準確度 = 0.79\n"
     ]
    },
    {
     "data": {
      "image/png": "[encoded data removed]",
      "text/plain": [
       "<Figure size 432x288 with 1 Axes>"
      ]
     },
     "metadata": {
      "needs_background": "light",
      "tags": []
     },
     "output_type": "display_data"
    },
    {
     "ename": "KeyError",
     "evalue": "ignored",
     "output_type": "error",
     "traceback": [
      "\u001b[0;31m---------------------------------------------------------------------------\u001b[0m",
      "\u001b[0;31mKeyError\u001b[0m                                  Traceback (most recent call last)",
      "\u001b[0;32m<ipython-input-11-4bfb93d5375b>\u001b[0m in \u001b[0;36m<module>\u001b[0;34m()\u001b[0m\n\u001b[1;32m     47\u001b[0m \u001b[0mplt\u001b[0m\u001b[0;34m.\u001b[0m\u001b[0mshow\u001b[0m\u001b[0;34m(\u001b[0m\u001b[0;34m)\u001b[0m\u001b[0;34m\u001b[0m\u001b[0;34m\u001b[0m\u001b[0m\n\u001b[1;32m     48\u001b[0m \u001b[0;31m# 顯示訓練和驗證準確度\u001b[0m\u001b[0;34m\u001b[0m\u001b[0;34m\u001b[0m\u001b[0;34m\u001b[0m\u001b[0m\n\u001b[0;32m---> 49\u001b[0;31m \u001b[0macc\u001b[0m \u001b[0;34m=\u001b[0m \u001b[0mhistory\u001b[0m\u001b[0;34m.\u001b[0m\u001b[0mhistory\u001b[0m\u001b[0;34m[\u001b[0m\u001b[0;34m\"acc\"\u001b[0m\u001b[0;34m]\u001b[0m\u001b[0;34m\u001b[0m\u001b[0;34m\u001b[0m\u001b[0m\n\u001b[0m\u001b[1;32m     50\u001b[0m \u001b[0mepochs\u001b[0m \u001b[0;34m=\u001b[0m \u001b[0mrange\u001b[0m\u001b[0;34m(\u001b[0m\u001b[0;36m1\u001b[0m\u001b[0;34m,\u001b[0m \u001b[0mlen\u001b[0m\u001b[0;34m(\u001b[0m\u001b[0macc\u001b[0m\u001b[0;34m)\u001b[0m\u001b[0;34m+\u001b[0m\u001b[0;36m1\u001b[0m\u001b[0;34m)\u001b[0m\u001b[0;34m\u001b[0m\u001b[0;34m\u001b[0m\u001b[0m\n\u001b[1;32m     51\u001b[0m \u001b[0mval_acc\u001b[0m \u001b[0;34m=\u001b[0m \u001b[0mhistory\u001b[0m\u001b[0;34m.\u001b[0m\u001b[0mhistory\u001b[0m\u001b[0;34m[\u001b[0m\u001b[0;34m\"val_acc\"\u001b[0m\u001b[0;34m]\u001b[0m\u001b[0;34m\u001b[0m\u001b[0;34m\u001b[0m\u001b[0m\n",
      "\u001b[0;31mKeyError\u001b[0m: 'acc'"
     ]
    }
   ],
   "source": [
    "import numpy as np\n",
    "from keras.datasets import imdb\n",
    "from keras.preprocessing import sequence\n",
    "from keras.models import Sequential\n",
    "from keras.layers import Dense, Dropout, Embedding, SimpleRNN\n",
    "\n",
    "seed = 10\n",
    "np.random.seed(seed)  # 指定亂數種子\n",
    "# 載入 IMDb 資料集\n",
    "top_words = 1000\n",
    "(X_train, Y_train), (X_test, Y_test) = imdb.load_data(num_words = top_words)\n",
    "# 資料預處理\n",
    "max_words = 100\n",
    "X_train = sequence.pad_sequences(X_train, maxlen = max_words)\n",
    "X_test = sequence.pad_sequences(X_test, maxlen = max_words)\n",
    "# 定義模型\n",
    "model = Sequential()\n",
    "model.add(Embedding(top_words, 32, input_length = max_words))\n",
    "model.add(Dropout(0.25))\n",
    "model.add(SimpleRNN(32))\n",
    "model.add(Dense(256, activation = \"relu\"))\n",
    "model.add(Dropout(0.25))\n",
    "model.add(Dense(1, activation = \"sigmoid\"))\n",
    "model.summary()   # 顯示模型摘要資訊\n",
    "# 編譯模型\n",
    "model.compile(loss = \"binary_crossentropy\", optimizer = \"rmsprop\", \n",
    "              metrics = [\"accuracy\"])\n",
    "# 訓練模型\n",
    "history = model.fit(X_train, Y_train, validation_split = 0.2, \n",
    "          epochs = 5, batch_size = 128, verbose = 2)\n",
    "# 評估模型\n",
    "loss, accuracy = model.evaluate(X_test, Y_test)\n",
    "print(\"測試資料集的準確度 = {:.2f}\".format(accuracy))\n",
    "# 顯示訓練和驗證損失圖表\n",
    "import matplotlib.pyplot as plt\n",
    "\n",
    "loss = history.history[\"loss\"]\n",
    "epochs = range(1, len(loss) + 1)\n",
    "val_loss = history.history[\"val_loss\"]\n",
    "plt.plot(epochs, loss, \"bo\", label = \"Training Loss\")\n",
    "plt.plot(epochs, val_loss, \"r\", label = \"Validation Loss\")\n",
    "plt.title(\"Training and Validation Loss\")\n",
    "plt.xlabel(\"Epochs\")\n",
    "plt.ylabel(\"Loss\")\n",
    "plt.legend()\n",
    "plt.show()\n",
    "# 顯示訓練和驗證準確度\n",
    "acc = history.history[\"acc\"]\n",
    "epochs = range(1, len(acc) + 1)\n",
    "val_acc = history.history[\"val_acc\"]\n",
    "plt.plot(epochs, acc, \"b-\", label = \"Training Acc\")\n",
    "plt.plot(epochs, val_acc, \"r--\", label = \"Validation Acc\")\n",
    "plt.title(\"Training and Validation Accuracy\")\n",
    "plt.xlabel(\"Epochs\")\n",
    "plt.ylabel(\"Accuracy\")\n",
    "plt.legend()\n",
    "plt.show()\n",
    "\n",
    "\n",
    "\n"
   ]
  },
  {
   "cell_type": "code",
   "execution_count": 12,
   "metadata": {
    "colab": {
     "base_uri": "https://localhost:8080/",
     "height": 1000
    },
    "executionInfo": {
     "elapsed": 19943,
     "status": "error",
     "timestamp": 1620744703147,
     "user": {
      "displayName": "rex tsou",
      "photoUrl": "",
      "userId": "15448100786581130255"
     },
     "user_tz": -480
    },
    "id": "VKa58gxt5plM",
    "outputId": "b3c825a7-df56-417b-f98f-21aee1e779c7"
   },
   "outputs": [
    {
     "name": "stderr",
     "output_type": "stream",
     "text": [
      "<string>:6: VisibleDeprecationWarning: Creating an ndarray from ragged nested sequences (which is a list-or-tuple of lists-or-tuples-or ndarrays with different lengths or shapes) is deprecated. If you meant to do this, you must specify 'dtype=object' when creating the ndarray\n",
      "/usr/local/lib/python3.7/dist-packages/tensorflow/python/keras/datasets/imdb.py:159: VisibleDeprecationWarning: Creating an ndarray from ragged nested sequences (which is a list-or-tuple of lists-or-tuples-or ndarrays with different lengths or shapes) is deprecated. If you meant to do this, you must specify 'dtype=object' when creating the ndarray\n",
      "  x_train, y_train = np.array(xs[:idx]), np.array(labels[:idx])\n",
      "/usr/local/lib/python3.7/dist-packages/tensorflow/python/keras/datasets/imdb.py:160: VisibleDeprecationWarning: Creating an ndarray from ragged nested sequences (which is a list-or-tuple of lists-or-tuples-or ndarrays with different lengths or shapes) is deprecated. If you meant to do this, you must specify 'dtype=object' when creating the ndarray\n",
      "  x_test, y_test = np.array(xs[idx:]), np.array(labels[idx:])\n"
     ]
    },
    {
     "name": "stdout",
     "output_type": "stream",
     "text": [
      "Model: \"sequential_11\"\n",
      "_________________________________________________________________\n",
      "Layer (type)                 Output Shape              Param #   \n",
      "=================================================================\n",
      "embedding_11 (Embedding)     (None, 100, 32)           32000     \n",
      "_________________________________________________________________\n",
      "dropout_15 (Dropout)         (None, 100, 32)           0         \n",
      "_________________________________________________________________\n",
      "lstm_1 (LSTM)                (None, 32)                8320      \n",
      "_________________________________________________________________\n",
      "dropout_16 (Dropout)         (None, 32)                0         \n",
      "_________________________________________________________________\n",
      "dense_16 (Dense)             (None, 1)                 33        \n",
      "=================================================================\n",
      "Total params: 40,353\n",
      "Trainable params: 40,353\n",
      "Non-trainable params: 0\n",
      "_________________________________________________________________\n",
      "Epoch 1/5\n",
      "157/157 - 3s - loss: 0.5420 - accuracy: 0.7219 - val_loss: 0.8199 - val_accuracy: 0.7006\n",
      "Epoch 2/5\n",
      "157/157 - 1s - loss: 0.4147 - accuracy: 0.8178 - val_loss: 0.4017 - val_accuracy: 0.8138\n",
      "Epoch 3/5\n",
      "157/157 - 1s - loss: 0.3877 - accuracy: 0.8286 - val_loss: 0.3922 - val_accuracy: 0.8186\n",
      "Epoch 4/5\n",
      "157/157 - 1s - loss: 0.3781 - accuracy: 0.8346 - val_loss: 0.4036 - val_accuracy: 0.8162\n",
      "Epoch 5/5\n",
      "157/157 - 1s - loss: 0.3696 - accuracy: 0.8368 - val_loss: 0.3908 - val_accuracy: 0.8206\n",
      "782/782 [==============================] - 3s 4ms/step - loss: 0.3786 - accuracy: 0.8289\n",
      "測試資料集的準確度 = 0.83\n"
     ]
    },
    {
     "data": {
      "image/png": "[encoded data removed]",
      "text/plain": [
       "<Figure size 432x288 with 1 Axes>"
      ]
     },
     "metadata": {
      "needs_background": "light",
      "tags": []
     },
     "output_type": "display_data"
    },
    {
     "ename": "KeyError",
     "evalue": "ignored",
     "output_type": "error",
     "traceback": [
      "\u001b[0;31m---------------------------------------------------------------------------\u001b[0m",
      "\u001b[0;31mKeyError\u001b[0m                                  Traceback (most recent call last)",
      "\u001b[0;32m<ipython-input-12-1e8ecc477dff>\u001b[0m in \u001b[0;36m<module>\u001b[0;34m()\u001b[0m\n\u001b[1;32m     46\u001b[0m \u001b[0mplt\u001b[0m\u001b[0;34m.\u001b[0m\u001b[0mshow\u001b[0m\u001b[0;34m(\u001b[0m\u001b[0;34m)\u001b[0m\u001b[0;34m\u001b[0m\u001b[0;34m\u001b[0m\u001b[0m\n\u001b[1;32m     47\u001b[0m \u001b[0;31m# 顯示訓練和驗證準確度\u001b[0m\u001b[0;34m\u001b[0m\u001b[0;34m\u001b[0m\u001b[0;34m\u001b[0m\u001b[0m\n\u001b[0;32m---> 48\u001b[0;31m \u001b[0macc\u001b[0m \u001b[0;34m=\u001b[0m \u001b[0mhistory\u001b[0m\u001b[0;34m.\u001b[0m\u001b[0mhistory\u001b[0m\u001b[0;34m[\u001b[0m\u001b[0;34m\"acc\"\u001b[0m\u001b[0;34m]\u001b[0m\u001b[0;34m\u001b[0m\u001b[0;34m\u001b[0m\u001b[0m\n\u001b[0m\u001b[1;32m     49\u001b[0m \u001b[0mepochs\u001b[0m \u001b[0;34m=\u001b[0m \u001b[0mrange\u001b[0m\u001b[0;34m(\u001b[0m\u001b[0;36m1\u001b[0m\u001b[0;34m,\u001b[0m \u001b[0mlen\u001b[0m\u001b[0;34m(\u001b[0m\u001b[0macc\u001b[0m\u001b[0;34m)\u001b[0m\u001b[0;34m+\u001b[0m\u001b[0;36m1\u001b[0m\u001b[0;34m)\u001b[0m\u001b[0;34m\u001b[0m\u001b[0;34m\u001b[0m\u001b[0m\n\u001b[1;32m     50\u001b[0m \u001b[0mval_acc\u001b[0m \u001b[0;34m=\u001b[0m \u001b[0mhistory\u001b[0m\u001b[0;34m.\u001b[0m\u001b[0mhistory\u001b[0m\u001b[0;34m[\u001b[0m\u001b[0;34m\"val_acc\"\u001b[0m\u001b[0;34m]\u001b[0m\u001b[0;34m\u001b[0m\u001b[0;34m\u001b[0m\u001b[0m\n",
      "\u001b[0;31mKeyError\u001b[0m: 'acc'"
     ]
    }
   ],
   "source": [
    "import numpy as np\n",
    "from keras.datasets import imdb\n",
    "from keras.preprocessing import sequence\n",
    "from keras.models import Sequential\n",
    "from keras.layers import Dense, Dropout, Embedding, LSTM\n",
    "\n",
    "seed = 10\n",
    "np.random.seed(seed)  # 指定亂數種子\n",
    "# 載入 IMDb 資料集\n",
    "top_words = 1000\n",
    "(X_train, Y_train), (X_test, Y_test) = imdb.load_data(num_words = top_words)\n",
    "# 資料預處理\n",
    "max_words = 100\n",
    "X_train = sequence.pad_sequences(X_train, maxlen = max_words)\n",
    "X_test = sequence.pad_sequences(X_test, maxlen = max_words)\n",
    "# 定義模型\n",
    "model = Sequential()\n",
    "model.add(Embedding(top_words, 32, input_length = max_words))\n",
    "model.add(Dropout(0.25))\n",
    "model.add(LSTM(32))\n",
    "model.add(Dropout(0.25))\n",
    "model.add(Dense(1, activation = \"sigmoid\"))\n",
    "model.summary()   # 顯示模型摘要資訊\n",
    "# 編譯模型\n",
    "model.compile(loss = \"binary_crossentropy\", optimizer = \"rmsprop\", \n",
    "              metrics = [\"accuracy\"])\n",
    "# 訓練模型\n",
    "history = model.fit(X_train, Y_train, validation_split = 0.2, \n",
    "          epochs = 5, batch_size = 128, verbose = 2)\n",
    "# 評估模型\n",
    "loss, accuracy = model.evaluate(X_test, Y_test)\n",
    "print(\"測試資料集的準確度 = {:.2f}\".format(accuracy))\n",
    "# 顯示訓練和驗證損失圖表\n",
    "import matplotlib.pyplot as plt\n",
    "\n",
    "loss = history.history[\"loss\"]\n",
    "epochs = range(1, len(loss) + 1)\n",
    "val_loss = history.history[\"val_loss\"]\n",
    "plt.plot(epochs, loss, \"bo\", label = \"Training Loss\")\n",
    "plt.plot(epochs, val_loss, \"r\", label = \"Validation Loss\")\n",
    "plt.title(\"Training and Validation Loss\")\n",
    "plt.xlabel(\"Epochs\")\n",
    "plt.ylabel(\"Loss\")\n",
    "plt.legend()\n",
    "plt.show()\n",
    "#顯示訓練和驗證準確度\n",
    "acc = history.history[\"acc\"]\n",
    "epochs = range(1, len(acc) + 1)\n",
    "val_acc = history.history[\"val_acc\"]\n",
    "plt.plot(epochs, acc, \"b-\", label = \"Training Acc\")\n",
    "plt.plot(epochs, val_acc, \"r--\", label = \"Validation Acc\")\n",
    "plt.title(\"Training and Validation Accuracy\")\n",
    "plt.xlabel(\"Epochs\")\n",
    "plt.ylabel(\"Accuracy\")\n",
    "plt.legend()\n",
    "plt.show()\n",
    "# 儲存模型結構和權重\n",
    "model.save(\"imdb_lstm.h5\")\n",
    "\n",
    "\n"
   ]
  },
  {
   "cell_type": "code",
   "execution_count": 13,
   "metadata": {
    "colab": {
     "base_uri": "https://localhost:8080/",
     "height": 1000
    },
    "executionInfo": {
     "elapsed": 288175,
     "status": "error",
     "timestamp": 1620745060410,
     "user": {
      "displayName": "rex tsou",
      "photoUrl": "",
      "userId": "15448100786581130255"
     },
     "user_tz": -480
    },
    "id": "Xktgjpoj5rT1",
    "outputId": "257a1612-b452-4691-bcb9-c28e7dd52aef"
   },
   "outputs": [
    {
     "name": "stderr",
     "output_type": "stream",
     "text": [
      "<string>:6: VisibleDeprecationWarning: Creating an ndarray from ragged nested sequences (which is a list-or-tuple of lists-or-tuples-or ndarrays with different lengths or shapes) is deprecated. If you meant to do this, you must specify 'dtype=object' when creating the ndarray\n",
      "/usr/local/lib/python3.7/dist-packages/tensorflow/python/keras/datasets/imdb.py:159: VisibleDeprecationWarning: Creating an ndarray from ragged nested sequences (which is a list-or-tuple of lists-or-tuples-or ndarrays with different lengths or shapes) is deprecated. If you meant to do this, you must specify 'dtype=object' when creating the ndarray\n",
      "  x_train, y_train = np.array(xs[:idx]), np.array(labels[:idx])\n",
      "/usr/local/lib/python3.7/dist-packages/tensorflow/python/keras/datasets/imdb.py:160: VisibleDeprecationWarning: Creating an ndarray from ragged nested sequences (which is a list-or-tuple of lists-or-tuples-or ndarrays with different lengths or shapes) is deprecated. If you meant to do this, you must specify 'dtype=object' when creating the ndarray\n",
      "  x_test, y_test = np.array(xs[idx:]), np.array(labels[idx:])\n"
     ]
    },
    {
     "name": "stdout",
     "output_type": "stream",
     "text": [
      "WARNING:tensorflow:Layer lstm_2 will not use cuDNN kernel since it doesn't meet the cuDNN kernel criteria. It will use generic GPU kernel as fallback when running on GPU\n",
      "Model: \"sequential_12\"\n",
      "_________________________________________________________________\n",
      "Layer (type)                 Output Shape              Param #   \n",
      "=================================================================\n",
      "embedding_12 (Embedding)     (None, 100, 32)           32000     \n",
      "_________________________________________________________________\n",
      "dropout_17 (Dropout)         (None, 100, 32)           0         \n",
      "_________________________________________________________________\n",
      "lstm_2 (LSTM)                (None, 32)                8320      \n",
      "_________________________________________________________________\n",
      "dense_17 (Dense)             (None, 1)                 33        \n",
      "=================================================================\n",
      "Total params: 40,353\n",
      "Trainable params: 40,353\n",
      "Non-trainable params: 0\n",
      "_________________________________________________________________\n",
      "Epoch 1/5\n",
      "157/157 - 55s - loss: 0.5780 - accuracy: 0.6967 - val_loss: 0.4589 - val_accuracy: 0.7866\n",
      "Epoch 2/5\n",
      "157/157 - 52s - loss: 0.4293 - accuracy: 0.8045 - val_loss: 0.4210 - val_accuracy: 0.8092\n",
      "Epoch 3/5\n",
      "157/157 - 52s - loss: 0.3958 - accuracy: 0.8241 - val_loss: 0.4287 - val_accuracy: 0.8096\n",
      "Epoch 4/5\n",
      "157/157 - 52s - loss: 0.3843 - accuracy: 0.8285 - val_loss: 0.3880 - val_accuracy: 0.8256\n",
      "Epoch 5/5\n",
      "157/157 - 52s - loss: 0.3761 - accuracy: 0.8355 - val_loss: 0.4031 - val_accuracy: 0.8204\n",
      "782/782 [==============================] - 17s 22ms/step - loss: 0.3924 - accuracy: 0.8242\n",
      "測試資料集的準確度 = 0.82\n"
     ]
    },
    {
     "data": {
      "image/png": "[encoded data removed]",
      "text/plain": [
       "<Figure size 432x288 with 1 Axes>"
      ]
     },
     "metadata": {
      "needs_background": "light",
      "tags": []
     },
     "output_type": "display_data"
    },
    {
     "ename": "KeyError",
     "evalue": "ignored",
     "output_type": "error",
     "traceback": [
      "\u001b[0;31m---------------------------------------------------------------------------\u001b[0m",
      "\u001b[0;31mKeyError\u001b[0m                                  Traceback (most recent call last)",
      "\u001b[0;32m<ipython-input-13-df47732b6483>\u001b[0m in \u001b[0;36m<module>\u001b[0;34m()\u001b[0m\n\u001b[1;32m     45\u001b[0m \u001b[0mplt\u001b[0m\u001b[0;34m.\u001b[0m\u001b[0mshow\u001b[0m\u001b[0;34m(\u001b[0m\u001b[0;34m)\u001b[0m\u001b[0;34m\u001b[0m\u001b[0;34m\u001b[0m\u001b[0m\n\u001b[1;32m     46\u001b[0m \u001b[0;31m# 顯示訓練和驗證準確度\u001b[0m\u001b[0;34m\u001b[0m\u001b[0;34m\u001b[0m\u001b[0;34m\u001b[0m\u001b[0m\n\u001b[0;32m---> 47\u001b[0;31m \u001b[0macc\u001b[0m \u001b[0;34m=\u001b[0m \u001b[0mhistory\u001b[0m\u001b[0;34m.\u001b[0m\u001b[0mhistory\u001b[0m\u001b[0;34m[\u001b[0m\u001b[0;34m\"acc\"\u001b[0m\u001b[0;34m]\u001b[0m\u001b[0;34m\u001b[0m\u001b[0;34m\u001b[0m\u001b[0m\n\u001b[0m\u001b[1;32m     48\u001b[0m \u001b[0mepochs\u001b[0m \u001b[0;34m=\u001b[0m \u001b[0mrange\u001b[0m\u001b[0;34m(\u001b[0m\u001b[0;36m1\u001b[0m\u001b[0;34m,\u001b[0m \u001b[0mlen\u001b[0m\u001b[0;34m(\u001b[0m\u001b[0macc\u001b[0m\u001b[0;34m)\u001b[0m\u001b[0;34m+\u001b[0m\u001b[0;36m1\u001b[0m\u001b[0;34m)\u001b[0m\u001b[0;34m\u001b[0m\u001b[0;34m\u001b[0m\u001b[0m\n\u001b[1;32m     49\u001b[0m \u001b[0mval_acc\u001b[0m \u001b[0;34m=\u001b[0m \u001b[0mhistory\u001b[0m\u001b[0;34m.\u001b[0m\u001b[0mhistory\u001b[0m\u001b[0;34m[\u001b[0m\u001b[0;34m\"val_acc\"\u001b[0m\u001b[0;34m]\u001b[0m\u001b[0;34m\u001b[0m\u001b[0;34m\u001b[0m\u001b[0m\n",
      "\u001b[0;31mKeyError\u001b[0m: 'acc'"
     ]
    }
   ],
   "source": [
    "import numpy as np\n",
    "from keras.datasets import imdb\n",
    "from keras.preprocessing import sequence\n",
    "from keras.models import Sequential\n",
    "from keras.layers import Dense, Dropout, Embedding, LSTM\n",
    "\n",
    "seed = 10\n",
    "np.random.seed(seed)  #指定亂數種子\n",
    "#載入 IMDb 資料集\n",
    "top_words = 1000\n",
    "(X_train, Y_train), (X_test, Y_test) = imdb.load_data(num_words = top_words)\n",
    "#資料預處理\n",
    "max_words = 100\n",
    "X_train = sequence.pad_sequences(X_train, maxlen = max_words)\n",
    "X_test = sequence.pad_sequences(X_test, maxlen = max_words)\n",
    "#定義模型\n",
    "model = Sequential()\n",
    "model.add(Embedding(top_words, 32, input_length = max_words))\n",
    "model.add(Dropout(0.25))\n",
    "model.add(LSTM(32, dropout=0.2, recurrent_dropout = 0.2))\n",
    "model.add(Dense(1, activation=\"sigmoid\"))\n",
    "model.summary()   #顯示模型摘要資訊\n",
    "#編譯模型\n",
    "model.compile(loss=\"binary_crossentropy\", optimizer=\"rmsprop\", \n",
    "              metrics=[\"accuracy\"])\n",
    "#訓練模型\n",
    "history = model.fit(X_train, Y_train, validation_split=0.2, \n",
    "          epochs=5, batch_size=128, verbose=2)\n",
    "#評估模型\n",
    "loss, accuracy = model.evaluate(X_test, Y_test)\n",
    "print(\"測試資料集的準確度 = {:.2f}\".format(accuracy))\n",
    "#顯示訓練和驗證損失圖表\n",
    "import matplotlib.pyplot as plt\n",
    "\n",
    "loss = history.history[\"loss\"]\n",
    "epochs = range(1, len(loss) + 1)\n",
    "val_loss = history.history[\"val_loss\"]\n",
    "plt.plot(epochs, loss, \"bo\", label = \"Training Loss\")\n",
    "plt.plot(epochs, val_loss, \"r\", label = \"Validation Loss\")\n",
    "plt.title(\"Training and Validation Loss\")\n",
    "plt.xlabel(\"Epochs\")\n",
    "plt.ylabel(\"Loss\")\n",
    "plt.legend()\n",
    "plt.show()\n",
    "#顯示訓練和驗證準確度\n",
    "acc = history.history[\"acc\"]\n",
    "epochs = range(1, len(acc) + 1)\n",
    "val_acc = history.history[\"val_acc\"]\n",
    "plt.plot(epochs, acc, \"b-\", label = \"Training Acc\")\n",
    "plt.plot(epochs, val_acc, \"r--\", label = \"Validation Acc\")\n",
    "plt.title(\"Training and Validation Accuracy\")\n",
    "plt.xlabel(\"Epochs\")\n",
    "plt.ylabel(\"Accuracy\")\n",
    "plt.legend()\n",
    "plt.show()\n",
    "\n",
    "\n",
    "\n"
   ]
  },
  {
   "cell_type": "code",
   "execution_count": 14,
   "metadata": {
    "colab": {
     "base_uri": "https://localhost:8080/",
     "height": 1000
    },
    "executionInfo": {
     "elapsed": 156178,
     "status": "ok",
     "timestamp": 1620745226210,
     "user": {
      "displayName": "rex tsou",
      "photoUrl": "",
      "userId": "15448100786581130255"
     },
     "user_tz": -480
    },
    "id": "mWEnt8OG5tEy",
    "outputId": "3936adb7-bbc1-4c56-9768-8a8a962c704b"
   },
   "outputs": [
    {
     "name": "stderr",
     "output_type": "stream",
     "text": [
      "<string>:6: VisibleDeprecationWarning: Creating an ndarray from ragged nested sequences (which is a list-or-tuple of lists-or-tuples-or ndarrays with different lengths or shapes) is deprecated. If you meant to do this, you must specify 'dtype=object' when creating the ndarray\n",
      "/usr/local/lib/python3.7/dist-packages/tensorflow/python/keras/datasets/imdb.py:159: VisibleDeprecationWarning: Creating an ndarray from ragged nested sequences (which is a list-or-tuple of lists-or-tuples-or ndarrays with different lengths or shapes) is deprecated. If you meant to do this, you must specify 'dtype=object' when creating the ndarray\n",
      "  x_train, y_train = np.array(xs[:idx]), np.array(labels[:idx])\n",
      "/usr/local/lib/python3.7/dist-packages/tensorflow/python/keras/datasets/imdb.py:160: VisibleDeprecationWarning: Creating an ndarray from ragged nested sequences (which is a list-or-tuple of lists-or-tuples-or ndarrays with different lengths or shapes) is deprecated. If you meant to do this, you must specify 'dtype=object' when creating the ndarray\n",
      "  x_test, y_test = np.array(xs[idx:]), np.array(labels[idx:])\n"
     ]
    },
    {
     "name": "stdout",
     "output_type": "stream",
     "text": [
      "WARNING:tensorflow:Layer gru_3 will not use cuDNN kernel since it doesn't meet the cuDNN kernel criteria. It will use generic GPU kernel as fallback when running on GPU\n",
      "Model: \"sequential_13\"\n",
      "_________________________________________________________________\n",
      "Layer (type)                 Output Shape              Param #   \n",
      "=================================================================\n",
      "embedding_13 (Embedding)     (None, 100, 32)           32000     \n",
      "_________________________________________________________________\n",
      "dropout_18 (Dropout)         (None, 100, 32)           0         \n",
      "_________________________________________________________________\n",
      "gru_3 (GRU)                  (None, 32)                6336      \n",
      "_________________________________________________________________\n",
      "dropout_19 (Dropout)         (None, 32)                0         \n",
      "_________________________________________________________________\n",
      "dense_18 (Dense)             (None, 1)                 33        \n",
      "=================================================================\n",
      "Total params: 38,369\n",
      "Trainable params: 38,369\n",
      "Non-trainable params: 0\n",
      "_________________________________________________________________\n",
      "Epoch 1/5\n",
      "157/157 - 29s - loss: 0.6850 - accuracy: 0.5857 - val_loss: 0.6477 - val_accuracy: 0.6190\n",
      "Epoch 2/5\n",
      "157/157 - 27s - loss: 0.5715 - accuracy: 0.7098 - val_loss: 0.4987 - val_accuracy: 0.7488\n",
      "Epoch 3/5\n",
      "157/157 - 27s - loss: 0.4454 - accuracy: 0.7930 - val_loss: 0.4207 - val_accuracy: 0.8022\n",
      "Epoch 4/5\n",
      "157/157 - 27s - loss: 0.4008 - accuracy: 0.8201 - val_loss: 0.4103 - val_accuracy: 0.8076\n",
      "Epoch 5/5\n",
      "157/157 - 27s - loss: 0.3827 - accuracy: 0.8322 - val_loss: 0.4106 - val_accuracy: 0.8132\n",
      "782/782 [==============================] - 12s 15ms/step - loss: 0.3976 - accuracy: 0.8204\n",
      "測試資料集的準確度 = 0.82\n"
     ]
    },
    {
     "data": {
      "image/png": "[encoded data removed]",
      "text/plain": [
       "<Figure size 432x288 with 1 Axes>"
      ]
     },
     "metadata": {
      "needs_background": "light",
      "tags": []
     },
     "output_type": "display_data"
    },
    {
     "data": {
      "image/png": "[encoded data removed]",
      "text/plain": [
       "<Figure size 432x288 with 1 Axes>"
      ]
     },
     "metadata": {
      "needs_background": "light",
      "tags": []
     },
     "output_type": "display_data"
    }
   ],
   "source": [
    "import numpy as np\n",
    "from keras.datasets import imdb\n",
    "from keras.preprocessing import sequence\n",
    "from keras.models import Sequential\n",
    "from keras.layers import Dense, Dropout, Embedding, GRU\n",
    "\n",
    "seed = 10\n",
    "np.random.seed(seed)  # 指定亂數種子\n",
    "# 載入 IMDb 資料集\n",
    "top_words = 1000\n",
    "(X_train, Y_train), (X_test, Y_test) = imdb.load_data(\n",
    "                                num_words=top_words)\n",
    "# 資料預處理\n",
    "max_words = 100\n",
    "X_train = sequence.pad_sequences(X_train, maxlen=max_words)\n",
    "X_test = sequence.pad_sequences(X_test, maxlen=max_words)\n",
    "# 定義模型\n",
    "model = Sequential()\n",
    "model.add(Embedding(top_words, 32, input_length=max_words))\n",
    "model.add(Dropout(0.25))\n",
    "model.add(GRU(32, activation=\"relu\"))\n",
    "model.add(Dropout(0.25))\n",
    "model.add(Dense(1, activation=\"sigmoid\"))\n",
    "model.summary()   # 顯示模型摘要資訊\n",
    "# 編譯模型\n",
    "model.compile(loss=\"binary_crossentropy\", optimizer=\"adam\", \n",
    "              metrics=[\"accuracy\"])\n",
    "# 訓練模型\n",
    "history = model.fit(X_train, Y_train, validation_split=0.2, \n",
    "          epochs=5, batch_size=128, verbose=2)\n",
    "# 評估模型\n",
    "loss, accuracy = model.evaluate(X_test, Y_test)\n",
    "print(\"測試資料集的準確度 = {:.2f}\".format(accuracy))\n",
    "# 顯示訓練和驗證損失圖表\n",
    "import matplotlib.pyplot as plt\n",
    "\n",
    "loss = history.history['loss']\n",
    "epochs = range(1, len(loss)+1)\n",
    "val_loss = history.history['val_loss']\n",
    "plt.plot(epochs, loss, \"bo\", label=\"Training Loss\")\n",
    "plt.plot(epochs, val_loss, \"r\", label=\"Validation Loss\")\n",
    "plt.title(\"Training and Validation Loss\")\n",
    "plt.xlabel(\"Epochs\")\n",
    "plt.ylabel(\"Loss\")\n",
    "plt.legend()\n",
    "plt.show()\n",
    "# 顯示訓練和驗證準確度\n",
    "acc = history.history['accuracy']\n",
    "epochs = range(1, len(acc)+1)\n",
    "val_acc = history.history['val_accuracy']\n",
    "plt.plot(epochs, acc, \"b-\", label=\"Training Acc\")\n",
    "plt.plot(epochs, val_acc, \"r--\", label=\"Validation Acc\")\n",
    "plt.title(\"Training and Validation Accuracy\")\n",
    "plt.xlabel(\"Epochs\")\n",
    "plt.ylabel(\"Accuracy\")\n",
    "plt.legend()\n",
    "plt.show()\n",
    "# 儲存模型結構和權重\n",
    "model.save(\"imdb_gru.h5\")\n",
    "\n",
    "\n"
   ]
  },
  {
   "cell_type": "code",
   "execution_count": 15,
   "metadata": {
    "colab": {
     "base_uri": "https://localhost:8080/",
     "height": 1000
    },
    "executionInfo": {
     "elapsed": 40599,
     "status": "ok",
     "timestamp": 1620745268348,
     "user": {
      "displayName": "rex tsou",
      "photoUrl": "",
      "userId": "15448100786581130255"
     },
     "user_tz": -480
    },
    "id": "cqdhBeff5uUD",
    "outputId": "282b8e2b-21f8-4b92-8fb9-235e1328a35b"
   },
   "outputs": [
    {
     "name": "stderr",
     "output_type": "stream",
     "text": [
      "<string>:6: VisibleDeprecationWarning: Creating an ndarray from ragged nested sequences (which is a list-or-tuple of lists-or-tuples-or ndarrays with different lengths or shapes) is deprecated. If you meant to do this, you must specify 'dtype=object' when creating the ndarray\n",
      "/usr/local/lib/python3.7/dist-packages/tensorflow/python/keras/datasets/imdb.py:159: VisibleDeprecationWarning: Creating an ndarray from ragged nested sequences (which is a list-or-tuple of lists-or-tuples-or ndarrays with different lengths or shapes) is deprecated. If you meant to do this, you must specify 'dtype=object' when creating the ndarray\n",
      "  x_train, y_train = np.array(xs[:idx]), np.array(labels[:idx])\n",
      "/usr/local/lib/python3.7/dist-packages/tensorflow/python/keras/datasets/imdb.py:160: VisibleDeprecationWarning: Creating an ndarray from ragged nested sequences (which is a list-or-tuple of lists-or-tuples-or ndarrays with different lengths or shapes) is deprecated. If you meant to do this, you must specify 'dtype=object' when creating the ndarray\n",
      "  x_test, y_test = np.array(xs[idx:]), np.array(labels[idx:])\n"
     ]
    },
    {
     "name": "stdout",
     "output_type": "stream",
     "text": [
      "Model: \"sequential_14\"\n",
      "_________________________________________________________________\n",
      "Layer (type)                 Output Shape              Param #   \n",
      "=================================================================\n",
      "embedding_14 (Embedding)     (None, 500, 32)           32000     \n",
      "_________________________________________________________________\n",
      "dropout_20 (Dropout)         (None, 500, 32)           0         \n",
      "_________________________________________________________________\n",
      "conv1d_2 (Conv1D)            (None, 500, 32)           3104      \n",
      "_________________________________________________________________\n",
      "max_pooling1d_2 (MaxPooling1 (None, 250, 32)           0         \n",
      "_________________________________________________________________\n",
      "lstm_3 (LSTM)                (None, 100)               53200     \n",
      "_________________________________________________________________\n",
      "dropout_21 (Dropout)         (None, 100)               0         \n",
      "_________________________________________________________________\n",
      "dense_19 (Dense)             (None, 1)                 101       \n",
      "=================================================================\n",
      "Total params: 88,405\n",
      "Trainable params: 88,405\n",
      "Non-trainable params: 0\n",
      "_________________________________________________________________\n",
      "Epoch 1/5\n",
      "157/157 - 7s - loss: 0.6570 - accuracy: 0.6065 - val_loss: 0.4169 - val_accuracy: 0.8198\n",
      "Epoch 2/5\n",
      "157/157 - 5s - loss: 0.3760 - accuracy: 0.8368 - val_loss: 0.3937 - val_accuracy: 0.8294\n",
      "Epoch 3/5\n",
      "157/157 - 5s - loss: 0.3285 - accuracy: 0.8626 - val_loss: 0.3240 - val_accuracy: 0.8650\n",
      "Epoch 4/5\n",
      "157/157 - 5s - loss: 0.3083 - accuracy: 0.8724 - val_loss: 0.3174 - val_accuracy: 0.8626\n",
      "Epoch 5/5\n",
      "157/157 - 5s - loss: 0.3050 - accuracy: 0.8743 - val_loss: 0.3242 - val_accuracy: 0.8640\n",
      "782/782 [==============================] - 6s 8ms/step - loss: 0.3187 - accuracy: 0.8672\n",
      "測試資料集的準確度 = 0.87\n"
     ]
    },
    {
     "data": {
      "image/png": "[encoded data removed]",
      "text/plain": [
       "<Figure size 432x288 with 1 Axes>"
      ]
     },
     "metadata": {
      "needs_background": "light",
      "tags": []
     },
     "output_type": "display_data"
    },
    {
     "data": {
      "image/png": "[encoded data removed]",
      "text/plain": [
       "<Figure size 432x288 with 1 Axes>"
      ]
     },
     "metadata": {
      "needs_background": "light",
      "tags": []
     },
     "output_type": "display_data"
    }
   ],
   "source": [
    "import numpy as np\n",
    "from keras.datasets import imdb\n",
    "from keras.preprocessing import sequence\n",
    "from keras.models import Sequential\n",
    "from keras.layers import Dense, Dropout, Embedding, LSTM\n",
    "from keras.layers import Conv1D\n",
    "from keras.layers import MaxPooling1D\n",
    "\n",
    "seed = 10\n",
    "np.random.seed(seed)  # 指定亂數種子\n",
    "# 載入 IMDb 資料集\n",
    "top_words = 1000\n",
    "(X_train, Y_train), (X_test, Y_test) = imdb.load_data(\n",
    "                                num_words=top_words)\n",
    "# 資料預處理\n",
    "max_words = 500\n",
    "X_train = sequence.pad_sequences(X_train, maxlen=max_words)\n",
    "X_test = sequence.pad_sequences(X_test, maxlen=max_words)\n",
    "# 定義模型\n",
    "model = Sequential()\n",
    "model.add(Embedding(top_words, 32, input_length=max_words))\n",
    "model.add(Dropout(0.25))\n",
    "model.add(Conv1D(filters=32, kernel_size=3, padding=\"same\",\n",
    "                 activation=\"relu\"))\n",
    "model.add(MaxPooling1D(pool_size=2))\n",
    "model.add(LSTM(100))\n",
    "model.add(Dropout(0.25))\n",
    "model.add(Dense(1, activation=\"sigmoid\"))\n",
    "model.summary()   # 顯示模型摘要資訊\n",
    "# 編譯模型\n",
    "model.compile(loss=\"binary_crossentropy\", optimizer=\"adam\", \n",
    "              metrics=[\"accuracy\"])\n",
    "# 訓練模型\n",
    "history = model.fit(X_train, Y_train, validation_split=0.2, \n",
    "          epochs=5, batch_size=128, verbose=2)\n",
    "# 評估模型\n",
    "loss, accuracy = model.evaluate(X_test, Y_test)\n",
    "print(\"測試資料集的準確度 = {:.2f}\".format(accuracy))\n",
    "# 顯示訓練和驗證損失圖表\n",
    "import matplotlib.pyplot as plt\n",
    "\n",
    "loss = history.history[\"loss\"]\n",
    "epochs = range(1, len(loss)+1)\n",
    "val_loss = history.history[\"val_loss\"]\n",
    "plt.plot(epochs, loss, \"bo\", label=\"Training Loss\")\n",
    "plt.plot(epochs, val_loss, \"r\", label=\"Validation Loss\")\n",
    "plt.title(\"Training and Validation Loss\")\n",
    "plt.xlabel(\"Epochs\")\n",
    "plt.ylabel(\"Loss\")\n",
    "plt.legend()\n",
    "plt.show()\n",
    "# 顯示訓練和驗證準確度\n",
    "acc = history.history[\"accuracy\"]\n",
    "epochs = range(1, len(acc)+1)\n",
    "val_acc = history.history[\"val_accuracy\"]\n",
    "plt.plot(epochs, acc, \"b-\", label=\"Training Acc\")\n",
    "plt.plot(epochs, val_acc, \"r--\", label=\"Validation Acc\")\n",
    "plt.title(\"Training and Validation Accuracy\")\n",
    "plt.xlabel(\"Epochs\")\n",
    "plt.ylabel(\"Accuracy\")\n",
    "plt.legend()\n",
    "plt.show()\n",
    "\n",
    "\n",
    "\n",
    "\n",
    "\n"
   ]
  },
  {
   "cell_type": "code",
   "execution_count": null,
   "metadata": {
    "id": "mDW0sQBp5wcJ"
   },
   "outputs": [],
   "source": []
  }
 ],
 "metadata": {
  "accelerator": "GPU",
  "colab": {
   "authorship_tag": "ABX9TyMNfNA8+RrfJ0BxBVawJnxV",
   "collapsed_sections": [],
   "name": "IMDb_Book.ipynb",
   "provenance": []
  },
  "kernelspec": {
   "display_name": "Python 3",
   "language": "python",
   "name": "python3"
  },
  "language_info": {
   "codemirror_mode": {
    "name": "ipython",
    "version": 3
   },
   "file_extension": ".py",
   "mimetype": "text/x-python",
   "name": "python",
   "nbconvert_exporter": "python",
   "pygments_lexer": "ipython3",
   "version": "3.8.5"
  }
 },
 "nbformat": 4,
 "nbformat_minor": 1
}
