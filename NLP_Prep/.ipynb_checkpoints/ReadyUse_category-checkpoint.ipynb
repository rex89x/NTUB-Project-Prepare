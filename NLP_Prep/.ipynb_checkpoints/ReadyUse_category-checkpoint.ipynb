{
 "cells": [
  {
   "cell_type": "code",
   "execution_count": null,
   "metadata": {
    "colab": {
     "base_uri": "https://localhost:8080/"
    },
    "executionInfo": {
     "elapsed": 674,
     "status": "ok",
     "timestamp": 1621324706900,
     "user": {
      "displayName": "rex tsou",
      "photoUrl": "",
      "userId": "15448100786581130255"
     },
     "user_tz": -480
    },
    "id": "_1WXviv243L2",
    "outputId": "ebbab4bd-8c83-453a-e857-1231bac80055"
   },
   "outputs": [
    {
     "name": "stdout",
     "output_type": "stream",
     "text": [
      "4\n"
     ]
    }
   ],
   "source": [
    "#分類準備網站\n",
    "# Reference Website\n",
    "\"\"\"\n",
    "https://www.kaggle.com/irfanmansuri/news-data\n",
    "https://www.kaggle.com/nadarsubash/predicting-news-category-using-nlp\n",
    "https://www.kaggle.com/nielspace/text-classification-using-bert\n",
    "https://www.kaggle.com/parthplc/topic-modelling-using-t5\n",
    "https://www.kaggle.com/parthplc/topic-modeling-using-lda\n",
    "https://www.kaggle.com/alfarias/huffpost-news-classification-with-distilbert\n",
    "\"\"\""
   ]
  },
  {
   "cell_type": "code",
   "execution_count": null,
   "metadata": {
    "id": "A_0UWJlL5zF9"
   },
   "outputs": [],
   "source": []
  }
 ],
 "metadata": {
  "colab": {
   "authorship_tag": "ABX9TyPbM0vuPCdAMs1IL1PnUxei",
   "collapsed_sections": [],
   "name": "ReadyUse_category.ipynb",
   "provenance": []
  },
  "kernelspec": {
   "display_name": "Python 3",
   "language": "python",
   "name": "python3"
  },
  "language_info": {
   "codemirror_mode": {
    "name": "ipython",
    "version": 3
   },
   "file_extension": ".py",
   "mimetype": "text/x-python",
   "name": "python",
   "nbconvert_exporter": "python",
   "pygments_lexer": "ipython3",
   "version": "3.8.5"
  }
 },
 "nbformat": 4,
 "nbformat_minor": 1
}
