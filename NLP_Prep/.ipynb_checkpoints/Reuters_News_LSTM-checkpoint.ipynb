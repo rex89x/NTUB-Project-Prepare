{
 "cells": [
  {
   "cell_type": "code",
   "execution_count": 1,
   "metadata": {
    "executionInfo": {
     "elapsed": 1953,
     "status": "ok",
     "timestamp": 1622267611007,
     "user": {
      "displayName": "rex tsou",
      "photoUrl": "",
      "userId": "15448100786581130255"
     },
     "user_tz": -480
    },
    "id": "_1WXviv243L2"
   },
   "outputs": [],
   "source": [
    "import numpy as np\n",
    "from tensorflow.keras.datasets import reuters\n",
    "from tensorflow.keras.preprocessing import sequence\n",
    "from tensorflow.keras.models import Sequential\n",
    "from tensorflow.keras.layers import Embedding, Dropout, LSTM, Dense\n",
    "from tensorflow.keras.utils import to_categorical\n",
    "\n",
    "#指定亂數種子\n",
    "seed = 10\n",
    "np.random.seed(seed)"
   ]
  },
  {
   "cell_type": "code",
   "execution_count": 2,
   "metadata": {
    "colab": {
     "base_uri": "https://localhost:8080/"
    },
    "executionInfo": {
     "elapsed": 1117,
     "status": "ok",
     "timestamp": 1622267612109,
     "user": {
      "displayName": "rex tsou",
      "photoUrl": "",
      "userId": "15448100786581130255"
     },
     "user_tz": -480
    },
    "id": "A_0UWJlL5zF9",
    "outputId": "834ae1d9-b4d5-4d85-c6f6-0ad40d41dc65"
   },
   "outputs": [
    {
     "name": "stdout",
     "output_type": "stream",
     "text": [
      "Downloading data from https://storage.googleapis.com/tensorflow/tf-keras-datasets/reuters.npz\n",
      "2113536/2110848 [==============================] - 0s 0us/step\n"
     ]
    },
    {
     "name": "stderr",
     "output_type": "stream",
     "text": [
      "/usr/local/lib/python3.7/dist-packages/tensorflow/python/keras/datasets/reuters.py:143: VisibleDeprecationWarning: Creating an ndarray from ragged nested sequences (which is a list-or-tuple of lists-or-tuples-or ndarrays with different lengths or shapes) is deprecated. If you meant to do this, you must specify 'dtype=object' when creating the ndarray\n",
      "  x_train, y_train = np.array(xs[:idx]), np.array(labels[:idx])\n",
      "/usr/local/lib/python3.7/dist-packages/tensorflow/python/keras/datasets/reuters.py:144: VisibleDeprecationWarning: Creating an ndarray from ragged nested sequences (which is a list-or-tuple of lists-or-tuples-or ndarrays with different lengths or shapes) is deprecated. If you meant to do this, you must specify 'dtype=object' when creating the ndarray\n",
      "  x_test, y_test = np.array(xs[idx:]), np.array(labels[idx:])\n"
     ]
    }
   ],
   "source": [
    "#載入Reuters Dataset\n",
    "top_words = 10000\n",
    "(X_train, Y_train), (X_test, Y_test) = reuters.load_data(num_words = top_words)"
   ]
  },
  {
   "cell_type": "code",
   "execution_count": 3,
   "metadata": {
    "colab": {
     "base_uri": "https://localhost:8080/"
    },
    "executionInfo": {
     "elapsed": 272,
     "status": "ok",
     "timestamp": 1622267632807,
     "user": {
      "displayName": "rex tsou",
      "photoUrl": "",
      "userId": "15448100786581130255"
     },
     "user_tz": -480
    },
    "id": "oNjGO7pjr2r3",
    "outputId": "2f3f7d88-4645-46ca-9930-735e9f46c90e"
   },
   "outputs": [
    {
     "name": "stdout",
     "output_type": "stream",
     "text": [
      "[list([1, 2, 2, 8, 43, 10, 447, 5, 25, 207, 270, 5, 3095, 111, 16, 369, 186, 90, 67, 7, 89, 5, 19, 102, 6, 19, 124, 15, 90, 67, 84, 22, 482, 26, 7, 48, 4, 49, 8, 864, 39, 209, 154, 6, 151, 6, 83, 11, 15, 22, 155, 11, 15, 7, 48, 9, 4579, 1005, 504, 6, 258, 6, 272, 11, 15, 22, 134, 44, 11, 15, 16, 8, 197, 1245, 90, 67, 52, 29, 209, 30, 32, 132, 6, 109, 15, 17, 12])\n",
      " list([1, 3267, 699, 3434, 2295, 56, 2, 7511, 9, 56, 3906, 1073, 81, 5, 1198, 57, 366, 737, 132, 20, 4093, 7, 2, 49, 2295, 2, 1037, 3267, 699, 3434, 8, 7, 10, 241, 16, 855, 129, 231, 783, 5, 4, 587, 2295, 2, 2, 775, 7, 48, 34, 191, 44, 35, 1795, 505, 17, 12])\n",
      " list([1, 53, 12, 284, 15, 14, 272, 26, 53, 959, 32, 818, 15, 14, 272, 26, 39, 684, 70, 11, 14, 12, 3886, 18, 180, 183, 187, 70, 11, 14, 102, 32, 11, 29, 53, 44, 704, 15, 14, 19, 758, 15, 53, 959, 47, 1013, 15, 14, 19, 132, 15, 39, 965, 32, 11, 14, 147, 72, 11, 180, 183, 187, 44, 11, 14, 102, 19, 11, 123, 186, 90, 67, 960, 4, 78, 13, 68, 467, 511, 110, 59, 89, 90, 67, 1390, 55, 2678, 92, 617, 80, 1274, 46, 905, 220, 13, 4, 346, 48, 235, 629, 5, 211, 5, 1118, 7, 2, 81, 5, 187, 11, 15, 9, 1709, 201, 5, 47, 3615, 18, 478, 4514, 5, 1118, 7, 232, 2, 71, 5, 160, 63, 11, 9, 2, 81, 5, 102, 59, 11, 17, 12])\n",
      " ...\n",
      " list([1, 141, 3890, 387, 81, 8, 16, 1629, 10, 340, 1241, 850, 31, 56, 3890, 691, 9, 1241, 71, 9, 5985, 2, 2, 699, 2, 2, 2, 699, 244, 5945, 4, 49, 8, 4, 656, 850, 33, 2993, 9, 2139, 340, 3371, 1493, 9, 2, 22, 2, 1094, 687, 83, 35, 15, 257, 6, 57, 9190, 7, 4, 5956, 654, 5, 2, 6191, 1371, 4, 49, 8, 16, 369, 646, 6, 1076, 7, 124, 407, 17, 12])\n",
      " list([1, 53, 46, 957, 26, 14, 74, 132, 26, 39, 46, 258, 3614, 18, 14, 74, 134, 5131, 18, 88, 2321, 72, 11, 14, 1842, 32, 11, 123, 383, 89, 39, 46, 235, 10, 864, 728, 5, 258, 44, 11, 15, 22, 753, 9, 42, 92, 131, 728, 5, 69, 312, 11, 15, 22, 222, 2, 3237, 383, 48, 39, 74, 235, 10, 864, 276, 5, 61, 32, 11, 15, 21, 4, 211, 5, 126, 1072, 42, 92, 131, 46, 19, 352, 11, 15, 22, 710, 220, 9, 42, 92, 131, 276, 5, 59, 61, 11, 15, 22, 10, 455, 7, 1172, 137, 336, 1325, 6, 1532, 142, 971, 6463, 43, 359, 5, 4, 326, 753, 364, 17, 12])\n",
      " list([1, 227, 2406, 91, 2, 125, 2855, 21, 4, 3976, 76, 7, 4, 757, 481, 3976, 790, 5259, 5654, 9, 111, 149, 8, 7, 10, 76, 223, 51, 4, 417, 8, 1047, 91, 6917, 1688, 340, 7, 194, 9411, 6, 1894, 21, 127, 2151, 2394, 1456, 6, 3034, 4, 329, 433, 7, 65, 87, 1127, 10, 8219, 1475, 290, 9, 21, 567, 16, 1926, 24, 4, 76, 209, 30, 4033, 6655, 5654, 8, 4, 60, 8, 4, 966, 308, 40, 2575, 129, 2, 295, 277, 1071, 9, 24, 286, 2114, 234, 222, 9, 4, 906, 3994, 8519, 114, 5758, 1752, 7, 4, 113, 17, 12])]\n"
     ]
    }
   ],
   "source": [
    "print(X_train)"
   ]
  },
  {
   "cell_type": "code",
   "execution_count": null,
   "metadata": {
    "id": "-KTEadDPb01i"
   },
   "outputs": [],
   "source": [
    "#資料預處理\n",
    "max_words = 200 \n",
    "X_train = sequence.pad_sequences(X_train, maxlen = max_words)\n",
    "X_test = sequence.pad_sequences(X_test, maxlen = max_words)"
   ]
  },
  {
   "cell_type": "code",
   "execution_count": null,
   "metadata": {
    "id": "KoqdAilKb21n"
   },
   "outputs": [],
   "source": [
    "#One-hot Encoding\n",
    "Y_train = to_categorical(Y_train, 46)\n",
    "Y_test = to_categorical(Y_test, 46)"
   ]
  },
  {
   "cell_type": "code",
   "execution_count": null,
   "metadata": {
    "colab": {
     "base_uri": "https://localhost:8080/"
    },
    "executionInfo": {
     "elapsed": 6275,
     "status": "ok",
     "timestamp": 1622129272238,
     "user": {
      "displayName": "rex tsou",
      "photoUrl": "",
      "userId": "15448100786581130255"
     },
     "user_tz": -480
    },
    "id": "hJC_1Gmxb7TT",
    "outputId": "b953c170-c3be-484d-c427-900fea940a07"
   },
   "outputs": [
    {
     "name": "stdout",
     "output_type": "stream",
     "text": [
      "Model: \"sequential\"\n",
      "_________________________________________________________________\n",
      "Layer (type)                 Output Shape              Param #   \n",
      "=================================================================\n",
      "embedding (Embedding)        (None, 200, 32)           320000    \n",
      "_________________________________________________________________\n",
      "dropout (Dropout)            (None, 200, 32)           0         \n",
      "_________________________________________________________________\n",
      "lstm (LSTM)                  (None, 200, 32)           8320      \n",
      "_________________________________________________________________\n",
      "lstm_1 (LSTM)                (None, 32)                8320      \n",
      "_________________________________________________________________\n",
      "dropout_1 (Dropout)          (None, 32)                0         \n",
      "_________________________________________________________________\n",
      "dense (Dense)                (None, 46)                1518      \n",
      "=================================================================\n",
      "Total params: 338,158\n",
      "Trainable params: 338,158\n",
      "Non-trainable params: 0\n",
      "_________________________________________________________________\n"
     ]
    }
   ],
   "source": [
    "#定義模型\n",
    "model = Sequential()\n",
    "model.add(Embedding(top_words, 32, input_length = max_words))\n",
    "model.add(Dropout(0.75))\n",
    "model.add(LSTM(32, return_sequences = True))\n",
    "model.add(LSTM(32))\n",
    "model.add(Dropout(0.5))\n",
    "model.add(Dense(46, activation = 'softmax'))\n",
    "model.summary() #show model information"
   ]
  },
  {
   "cell_type": "code",
   "execution_count": null,
   "metadata": {
    "id": "D0QJ65encEuD"
   },
   "outputs": [],
   "source": [
    "#編譯模型\n",
    "model.compile(loss = \"categorical_crossentropy\", optimizer = \"rmsprop\",\n",
    "      metrics = [\"accuracy\"])"
   ]
  },
  {
   "cell_type": "code",
   "execution_count": null,
   "metadata": {
    "colab": {
     "base_uri": "https://localhost:8080/"
    },
    "executionInfo": {
     "elapsed": 159275,
     "status": "ok",
     "timestamp": 1622129481735,
     "user": {
      "displayName": "rex tsou",
      "photoUrl": "",
      "userId": "15448100786581130255"
     },
     "user_tz": -480
    },
    "id": "AxaVLLiCcLGR",
    "outputId": "485365bd-449f-45b9-e065-cc541d00a4fb"
   },
   "outputs": [
    {
     "name": "stdout",
     "output_type": "stream",
     "text": [
      "Epoch 1/40\n",
      "225/225 - 13s - loss: 2.3735 - accuracy: 0.3979 - val_loss: 1.8646 - val_accuracy: 0.4903\n",
      "Epoch 2/40\n",
      "225/225 - 4s - loss: 1.9156 - accuracy: 0.4987 - val_loss: 1.7377 - val_accuracy: 0.5353\n",
      "Epoch 3/40\n",
      "225/225 - 4s - loss: 1.8022 - accuracy: 0.5175 - val_loss: 1.7547 - val_accuracy: 0.5253\n",
      "Epoch 4/40\n",
      "225/225 - 4s - loss: 1.7625 - accuracy: 0.5275 - val_loss: 1.7233 - val_accuracy: 0.5292\n",
      "Epoch 5/40\n",
      "225/225 - 4s - loss: 1.7122 - accuracy: 0.5372 - val_loss: 1.6363 - val_accuracy: 0.5620\n",
      "Epoch 6/40\n",
      "225/225 - 4s - loss: 1.6880 - accuracy: 0.5432 - val_loss: 1.7008 - val_accuracy: 0.5454\n",
      "Epoch 7/40\n",
      "225/225 - 4s - loss: 1.6482 - accuracy: 0.5587 - val_loss: 1.6019 - val_accuracy: 0.5671\n",
      "Epoch 8/40\n",
      "225/225 - 4s - loss: 1.6220 - accuracy: 0.5712 - val_loss: 1.6472 - val_accuracy: 0.5632\n",
      "Epoch 9/40\n",
      "225/225 - 4s - loss: 1.5706 - accuracy: 0.5756 - val_loss: 1.5843 - val_accuracy: 0.5787\n",
      "Epoch 10/40\n",
      "225/225 - 4s - loss: 1.5457 - accuracy: 0.5936 - val_loss: 1.5087 - val_accuracy: 0.6032\n",
      "Epoch 11/40\n",
      "225/225 - 4s - loss: 1.5135 - accuracy: 0.6049 - val_loss: 1.4891 - val_accuracy: 0.6121\n",
      "Epoch 12/40\n",
      "225/225 - 4s - loss: 1.4948 - accuracy: 0.6056 - val_loss: 1.5200 - val_accuracy: 0.6082\n",
      "Epoch 13/40\n",
      "225/225 - 4s - loss: 1.4718 - accuracy: 0.6145 - val_loss: 1.5144 - val_accuracy: 0.6071\n",
      "Epoch 14/40\n",
      "225/225 - 4s - loss: 1.4462 - accuracy: 0.6246 - val_loss: 1.4286 - val_accuracy: 0.6372\n",
      "Epoch 15/40\n",
      "225/225 - 4s - loss: 1.4139 - accuracy: 0.6337 - val_loss: 1.4609 - val_accuracy: 0.6305\n",
      "Epoch 16/40\n",
      "225/225 - 4s - loss: 1.4074 - accuracy: 0.6420 - val_loss: 1.3927 - val_accuracy: 0.6433\n",
      "Epoch 17/40\n",
      "225/225 - 4s - loss: 1.3650 - accuracy: 0.6457 - val_loss: 1.3982 - val_accuracy: 0.6489\n",
      "Epoch 18/40\n",
      "225/225 - 4s - loss: 1.3501 - accuracy: 0.6534 - val_loss: 1.3710 - val_accuracy: 0.6633\n",
      "Epoch 19/40\n",
      "225/225 - 4s - loss: 1.3329 - accuracy: 0.6573 - val_loss: 1.3994 - val_accuracy: 0.6550\n",
      "Epoch 20/40\n",
      "225/225 - 4s - loss: 1.3213 - accuracy: 0.6629 - val_loss: 1.3897 - val_accuracy: 0.6444\n",
      "Epoch 21/40\n",
      "225/225 - 4s - loss: 1.3189 - accuracy: 0.6658 - val_loss: 1.3467 - val_accuracy: 0.6750\n",
      "Epoch 22/40\n",
      "225/225 - 4s - loss: 1.2855 - accuracy: 0.6759 - val_loss: 1.3494 - val_accuracy: 0.6706\n",
      "Epoch 23/40\n",
      "225/225 - 4s - loss: 1.2733 - accuracy: 0.6802 - val_loss: 1.3771 - val_accuracy: 0.6678\n",
      "Epoch 24/40\n",
      "225/225 - 4s - loss: 1.2613 - accuracy: 0.6825 - val_loss: 1.3478 - val_accuracy: 0.6761\n",
      "Epoch 25/40\n",
      "225/225 - 4s - loss: 1.2576 - accuracy: 0.6834 - val_loss: 1.3305 - val_accuracy: 0.6789\n",
      "Epoch 26/40\n",
      "225/225 - 4s - loss: 1.2263 - accuracy: 0.6907 - val_loss: 1.3741 - val_accuracy: 0.6539\n",
      "Epoch 27/40\n",
      "225/225 - 4s - loss: 1.2178 - accuracy: 0.6902 - val_loss: 1.3035 - val_accuracy: 0.6906\n",
      "Epoch 28/40\n",
      "225/225 - 4s - loss: 1.2038 - accuracy: 0.6932 - val_loss: 1.3382 - val_accuracy: 0.6817\n",
      "Epoch 29/40\n",
      "225/225 - 4s - loss: 1.1926 - accuracy: 0.6970 - val_loss: 1.2702 - val_accuracy: 0.6895\n",
      "Epoch 30/40\n",
      "225/225 - 4s - loss: 1.1790 - accuracy: 0.7031 - val_loss: 1.3331 - val_accuracy: 0.6884\n",
      "Epoch 31/40\n",
      "225/225 - 4s - loss: 1.1818 - accuracy: 0.7003 - val_loss: 1.2872 - val_accuracy: 0.6900\n",
      "Epoch 32/40\n",
      "225/225 - 4s - loss: 1.1608 - accuracy: 0.7108 - val_loss: 1.2660 - val_accuracy: 0.6950\n",
      "Epoch 33/40\n",
      "225/225 - 4s - loss: 1.1540 - accuracy: 0.7130 - val_loss: 1.2914 - val_accuracy: 0.6834\n",
      "Epoch 34/40\n",
      "225/225 - 4s - loss: 1.1424 - accuracy: 0.7175 - val_loss: 1.2703 - val_accuracy: 0.7006\n",
      "Epoch 35/40\n",
      "225/225 - 4s - loss: 1.1412 - accuracy: 0.7140 - val_loss: 1.2514 - val_accuracy: 0.7023\n",
      "Epoch 36/40\n",
      "225/225 - 4s - loss: 1.1285 - accuracy: 0.7205 - val_loss: 1.2993 - val_accuracy: 0.6989\n",
      "Epoch 37/40\n",
      "225/225 - 4s - loss: 1.1314 - accuracy: 0.7150 - val_loss: 1.2263 - val_accuracy: 0.7112\n",
      "Epoch 38/40\n",
      "225/225 - 4s - loss: 1.1101 - accuracy: 0.7269 - val_loss: 1.2517 - val_accuracy: 0.7134\n",
      "Epoch 39/40\n",
      "225/225 - 4s - loss: 1.1140 - accuracy: 0.7232 - val_loss: 1.2603 - val_accuracy: 0.7145\n",
      "Epoch 40/40\n",
      "225/225 - 4s - loss: 1.0964 - accuracy: 0.7304 - val_loss: 1.2737 - val_accuracy: 0.7112\n"
     ]
    }
   ],
   "source": [
    "#訓練模型\n",
    "history = model.fit(X_train, Y_train, validation_split = 0.2, epochs = 40, batch_size = 32, verbose = 2)"
   ]
  },
  {
   "cell_type": "code",
   "execution_count": null,
   "metadata": {
    "colab": {
     "base_uri": "https://localhost:8080/"
    },
    "executionInfo": {
     "elapsed": 924,
     "status": "ok",
     "timestamp": 1622129492034,
     "user": {
      "displayName": "rex tsou",
      "photoUrl": "",
      "userId": "15448100786581130255"
     },
     "user_tz": -480
    },
    "id": "KEGGuUVCcShL",
    "outputId": "16a14779-44c4-4eaf-e7e6-178aa00052ae"
   },
   "outputs": [
    {
     "name": "stdout",
     "output_type": "stream",
     "text": [
      "測試準確度 = 0.70\n"
     ]
    }
   ],
   "source": [
    "#評估模型\n",
    "loss, accuracy = model.evaluate(X_test, Y_test, verbose = 0)\n",
    "print(\"測試準確度 = {:.2f}\".format(accuracy))"
   ]
  },
  {
   "cell_type": "code",
   "execution_count": null,
   "metadata": {
    "id": "oa7wGLaxcW9A"
   },
   "outputs": [],
   "source": [
    "#show train and validation diagram\n",
    "import matplotlib.pyplot as plt"
   ]
  },
  {
   "cell_type": "code",
   "execution_count": null,
   "metadata": {
    "colab": {
     "base_uri": "https://localhost:8080/",
     "height": 295
    },
    "executionInfo": {
     "elapsed": 292,
     "status": "ok",
     "timestamp": 1622129495852,
     "user": {
      "displayName": "rex tsou",
      "photoUrl": "",
      "userId": "15448100786581130255"
     },
     "user_tz": -480
    },
    "id": "NzzMqIw7cYme",
    "outputId": "2580ea1e-b38d-4acd-b109-378b322a4c7d"
   },
   "outputs": [
    {
     "data": {
      "image/png": "[encoded data removed]",
      "text/plain": [
       "<Figure size 432x288 with 1 Axes>"
      ]
     },
     "metadata": {
      "needs_background": "light",
      "tags": []
     },
     "output_type": "display_data"
    }
   ],
   "source": [
    "loss = history.history[\"loss\"]\n",
    "epochs = range(1, len(loss)+1)\n",
    "val_loss = history.history[\"val_loss\"]\n",
    "plt.plot(epochs, loss, \"bo\", label = \"Training Loss\")\n",
    "plt.plot(epochs, val_loss, \"r\", label = \"Validation Loss\")\n",
    "plt.title(\"Training and Validation Loss\")\n",
    "plt.xlabel(\"Epochs\")\n",
    "plt.ylabel(\"Loss\")\n",
    "plt.legend()\n",
    "plt.show()"
   ]
  },
  {
   "cell_type": "code",
   "execution_count": null,
   "metadata": {
    "colab": {
     "base_uri": "https://localhost:8080/",
     "height": 295
    },
    "executionInfo": {
     "elapsed": 321,
     "status": "ok",
     "timestamp": 1622129498354,
     "user": {
      "displayName": "rex tsou",
      "photoUrl": "",
      "userId": "15448100786581130255"
     },
     "user_tz": -480
    },
    "id": "fzjmmruQcaal",
    "outputId": "0bfb3d5d-3a67-40e0-f791-3c0107959e96"
   },
   "outputs": [
    {
     "data": {
      "image/png": "[encoded data removed]",
      "text/plain": [
       "<Figure size 432x288 with 1 Axes>"
      ]
     },
     "metadata": {
      "needs_background": "light",
      "tags": []
     },
     "output_type": "display_data"
    }
   ],
   "source": [
    "#show train and validation diagram\n",
    "acc = history.history[\"accuracy\"]\n",
    "epochs = range(1, len(acc) + 1)\n",
    "val_acc = history.history[\"val_accuracy\"]\n",
    "plt.plot(epochs, acc, \"b-\", label = \"Training Acc\")\n",
    "plt.plot(epochs, val_acc, \"r--\", label = \"Validation Acc\")\n",
    "plt.title(\"Training and Validation Accuracy\")\n",
    "plt.xlabel(\"Epochs\")\n",
    "plt.ylabel(\"Accuracy\")\n",
    "plt.legend()\n",
    "plt.show()"
   ]
  },
  {
   "cell_type": "code",
   "execution_count": null,
   "metadata": {
    "id": "QLKs2Yu2c9Yg"
   },
   "outputs": [],
   "source": []
  }
 ],
 "metadata": {
  "accelerator": "GPU",
  "colab": {
   "authorship_tag": "ABX9TyOt+irymOoqE4gveK1/Z1W1",
   "collapsed_sections": [],
   "name": "Reuters_News_LSTM.ipynb",
   "provenance": []
  },
  "kernelspec": {
   "display_name": "Python 3",
   "language": "python",
   "name": "python3"
  },
  "language_info": {
   "codemirror_mode": {
    "name": "ipython",
    "version": 3
   },
   "file_extension": ".py",
   "mimetype": "text/x-python",
   "name": "python",
   "nbconvert_exporter": "python",
   "pygments_lexer": "ipython3",
   "version": "3.8.5"
  }
 },
 "nbformat": 4,
 "nbformat_minor": 1
}
